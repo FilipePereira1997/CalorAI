{
 "cells": [
  {
   "cell_type": "code",
   "id": "d69cb56e85a5af73",
   "metadata": {
    "ExecuteTime": {
     "end_time": "2025-03-19T23:12:47.835446Z",
     "start_time": "2025-03-19T23:12:46.964772Z"
    }
   },
   "source": [
    "import pandas as pd\n",
    "import json\n",
    "import random\n",
    "\n",
    "# Carregar o dataset positivo (comida)\n",
    "df_comida = pd.read_csv(\"../who_dataset/normalized/normalized_merged_dataset.csv\")\n",
    "num_positivos = len(df_comida)\n",
    "half = num_positivos // 2\n",
    "\n",
    "# Carregar os dois arquivos JSONL de frases aleatórias\n",
    "def carregar_jsonl(path):\n",
    "    with open(path, \"r\", encoding=\"utf-8\") as f:\n",
    "        return [json.loads(line)[\"text\"] for line in f]\n",
    "\n",
    "neg_en  = carregar_jsonl(\"en.jsonl\")\n",
    "neg_pt  = carregar_jsonl(\"pt.jsonl\")\n",
    "\n",
    "# Shuffle e cortar\n",
    "random.shuffle(neg_pt)\n",
    "random.shuffle(neg_en)\n",
    "\n",
    "negativos_pt = neg_pt[:half]\n",
    "negativos_en = neg_en[:(num_positivos - half)]  # Caso ímpar, pega o restante\n"
   ],
   "outputs": [],
   "execution_count": 1
  },
  {
   "metadata": {
    "ExecuteTime": {
     "end_time": "2025-03-19T23:13:05.683057Z",
     "start_time": "2025-03-19T23:13:05.444710Z"
    }
   },
   "cell_type": "code",
   "source": [
    "import re\n",
    "\n",
    "def clean_text(text):\n",
    "    # Remove region + país em qualquer posição\n",
    "    text = re.sub(r'\\bregion\\s*(pt|usa)\\b', '', text, flags=re.IGNORECASE)\n",
    "\n",
    "    # Lowercase\n",
    "    text = text.lower()\n",
    "\n",
    "    # Remove pontuação\n",
    "    text = re.sub(r'[^\\w\\s]', '', text)\n",
    "\n",
    "    # Remover múltiplos espaços\n",
    "    text = re.sub(r'\\s+', ' ', text)\n",
    "\n",
    "    return text.strip()\n",
    "\n",
    "# Aplicar no dataset positivo\n",
    "df_comida[\"meal_description\"] = df_comida[\"meal_description\"].apply(clean_text)\n",
    "\n",
    "# Aplicar no dataset negativo (PT + EN)\n",
    "negativos_pt = [clean_text(t) for t in negativos_pt]\n",
    "negativos_en = [clean_text(t) for t in negativos_en]\n"
   ],
   "id": "2cc5bfc657f6c9ea",
   "outputs": [],
   "execution_count": 2
  },
  {
   "metadata": {
    "collapsed": true,
    "ExecuteTime": {
     "end_time": "2025-03-19T23:13:18.485676Z",
     "start_time": "2025-03-19T23:13:18.324334Z"
    }
   },
   "cell_type": "code",
   "source": [
    "# Criar dataset balanceado\n",
    "data = []\n",
    "\n",
    "for frase in df_comida[\"meal_description\"].tolist():\n",
    "    data.append({\"text\": frase, \"label\": 1})\n",
    "\n",
    "for frase in negativos_pt + negativos_en:\n",
    "    data.append({\"text\": frase, \"label\": 0})\n",
    "\n",
    "# Embaralhar final\n",
    "df_final = pd.DataFrame(data)\n",
    "df_final = df_final.sample(frac=1).reset_index(drop=True)\n",
    "\n",
    "# Exportar CSV final\n",
    "df_final.to_csv(\"meal_detection_balanced.csv\", index=False)\n"
   ],
   "id": "initial_id",
   "outputs": [],
   "execution_count": 3
  }
 ],
 "metadata": {
  "kernelspec": {
   "display_name": "Python 3",
   "language": "python",
   "name": "python3"
  },
  "language_info": {
   "codemirror_mode": {
    "name": "ipython",
    "version": 2
   },
   "file_extension": ".py",
   "mimetype": "text/x-python",
   "name": "python",
   "nbconvert_exporter": "python",
   "pygments_lexer": "ipython2",
   "version": "2.7.6"
  }
 },
 "nbformat": 4,
 "nbformat_minor": 5
}
