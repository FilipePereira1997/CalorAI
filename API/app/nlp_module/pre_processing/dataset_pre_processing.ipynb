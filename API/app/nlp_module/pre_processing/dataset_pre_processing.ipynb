{
 "cells": [
  {
   "cell_type": "code",
   "id": "initial_id",
   "metadata": {
    "collapsed": true,
    "ExecuteTime": {
     "end_time": "2025-03-13T16:39:12.091741Z",
     "start_time": "2025-03-13T16:39:11.040505Z"
    }
   },
   "source": [
    "import pandas as pd\n",
    "import glob\n",
    "\n",
    "# List of file paths for the CSV datasets\n",
    "file_paths = glob.glob(\"../data/*.csv\")  # Replace with the actual folder path\n",
    "\n",
    "# Load and concatenate the datasets into a single DataFrame\n",
    "dataframes = [pd.read_csv(file) for file in file_paths]\n",
    "df = pd.concat(dataframes, ignore_index=True)\n",
    "\n",
    "# Display the first few rows to verify the merged dataset\n",
    "print(df.head())\n",
    "\n",
    "# Save the unified dataset to a new CSV file (optional)\n",
    "df.to_csv(\"../data/merged_dataset.csv\", index=False)"
   ],
   "outputs": [
    {
     "name": "stdout",
     "output_type": "stream",
     "text": [
      "                                    meal_description   carb  protein    fat  \\\n",
      "0  For a quick snack, I reached for 360g of bottl...   0.00     0.00   0.00   \n",
      "1  During lunch, I savored 240g of unsweetened bo...  63.41    26.66  14.82   \n",
      "2  For my snack, I indulged in a delicious 75g va...  18.38     3.08  18.08   \n",
      "3  I kicked off my day with a satisfying breakfas...  26.39    25.38  30.70   \n",
      "4  My afternoon snack featured a 200g raw apple a...  42.07     3.12   9.64   \n",
      "\n",
      "   energy  \n",
      "0    0.00  \n",
      "1  502.04  \n",
      "2  248.25  \n",
      "3  485.75  \n",
      "4  251.28  \n"
     ]
    }
   ],
   "execution_count": 10
  },
  {
   "metadata": {
    "ExecuteTime": {
     "end_time": "2025-03-13T16:39:12.198385Z",
     "start_time": "2025-03-13T16:39:12.091741Z"
    }
   },
   "cell_type": "code",
   "source": [
    "from sklearn.preprocessing import MinMaxScaler\n",
    "\n",
    "dataset_name = \"wweia_meal_natural.csv\"\n",
    "\n",
    "df = pd.read_csv(\"../data/\" + dataset_name)\n",
    "\n",
    "# Define the columns to be normalized\n",
    "columns_to_normalize = [\"carb\", \"protein\", \"fat\", \"energy\"]\n",
    "\n",
    "# Initialize the MinMaxScaler\n",
    "scaler = MinMaxScaler()\n",
    "\n",
    "# Normalize the specified columns\n",
    "df[columns_to_normalize] = scaler.fit_transform(df[columns_to_normalize])\n",
    "\n",
    "# Display the first few rows to verify the normalization\n",
    "print(df.head())\n",
    "\n",
    "# Save the normalized dataset to a new CSV file (optional)\n",
    "df.to_csv(\"../data/normalized/normalized_\"+dataset_name+\".csv\", index=False)\n",
    "\n",
    "import joblib\n",
    "\n",
    "joblib.dump(scaler, \"scaler_nutrition.pkl\")"
   ],
   "id": "31150abb50e1607b",
   "outputs": [
    {
     "name": "stdout",
     "output_type": "stream",
     "text": [
      "                                    meal_description      carb   protein  \\\n",
      "0  I kept it simple for my snack today with a bot...  0.000000  0.000000   \n",
      "1  At lunch, I treated myself to a cup of bottled...  0.246808  0.245014   \n",
      "2  For my snack, I indulged in a chocolate-coated...  0.071540  0.028306   \n",
      "3  For my breakfast, I prepared a cup of egg omel...  0.102717  0.233251   \n",
      "4  My afternoon snack consisted of a juicy medium...  0.163747  0.028674   \n",
      "\n",
      "        fat    energy  \n",
      "0  0.000000  0.000000  \n",
      "1  0.111045  0.218183  \n",
      "2  0.135471  0.107888  \n",
      "3  0.230031  0.211104  \n",
      "4  0.072231  0.109205  \n"
     ]
    },
    {
     "data": {
      "text/plain": [
       "['scaler_nutrition.pkl']"
      ]
     },
     "execution_count": 11,
     "metadata": {},
     "output_type": "execute_result"
    }
   ],
   "execution_count": 11
  }
 ],
 "metadata": {
  "kernelspec": {
   "display_name": "Python 3",
   "language": "python",
   "name": "python3"
  },
  "language_info": {
   "codemirror_mode": {
    "name": "ipython",
    "version": 2
   },
   "file_extension": ".py",
   "mimetype": "text/x-python",
   "name": "python",
   "nbconvert_exporter": "python",
   "pygments_lexer": "ipython2",
   "version": "2.7.6"
  }
 },
 "nbformat": 4,
 "nbformat_minor": 5
}
