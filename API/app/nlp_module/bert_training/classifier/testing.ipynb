{
 "cells": [
  {
   "metadata": {
    "ExecuteTime": {
     "end_time": "2025-03-20T19:59:38.544615Z",
     "start_time": "2025-03-20T19:59:37.611802Z"
    }
   },
   "cell_type": "code",
   "source": [
    "from transformers import AutoTokenizer, AutoModelForSequenceClassification\n",
    "import torch\n",
    "import torch.nn.functional as F\n",
    "\n",
    "repo_id = \"FilipePereira1997/CalorAI\"\n",
    "\n",
    "# Carregar tokenizer\n",
    "tokenizer = AutoTokenizer.from_pretrained(repo_id, subfolder=\"meal_classifier_model\")\n",
    "\n",
    "# Carregar modelo\n",
    "model = AutoModelForSequenceClassification.from_pretrained(repo_id, subfolder=\"meal_classifier_model\")"
   ],
   "id": "225d19647215826e",
   "outputs": [],
   "execution_count": 4
  },
  {
   "metadata": {
    "ExecuteTime": {
     "end_time": "2025-03-20T20:03:02.981280Z",
     "start_time": "2025-03-20T20:03:02.831573Z"
    }
   },
   "cell_type": "code",
   "source": [
    "# Exemplo de texto para classificar\n",
    "texts = [\n",
    "    \"Grilled chicken with rice and vegetables.\",\n",
    "    \"Random sentence about the weather.\",\n",
    "    \"Cabidela Rice\",\n",
    "    \"Eu sou uma Porta\",\n",
    "    \"Potatoes\"\n",
    "    ]\n",
    "\n",
    "# Tokenização\n",
    "inputs = tokenizer(texts, padding=True, truncation=True, return_tensors=\"pt\")\n",
    "\n",
    "# Forward pass\n",
    "with torch.no_grad():\n",
    "    outputs = model(**inputs)\n",
    "    logits = outputs.logits\n",
    "\n",
    "# Softmax para probabilidades\n",
    "probs = F.softmax(logits, dim=-1)\n",
    "\n",
    "# Predição final\n",
    "preds = torch.argmax(probs, dim=1)\n",
    "\n",
    "# Resultados\n",
    "for text, pred, prob in zip(texts, preds, probs):\n",
    "    print(f\"Texto: {text}\")\n",
    "    if(pred.item() == 1):\n",
    "        classe_prevista = 'isFood'\n",
    "    else:\n",
    "        classe_prevista = 'isNotFood'\n",
    "    print(f\"Classe prevista: {classe_prevista} | Probabilidade: {prob[pred].item():.4f}\")\n",
    "    print(\"---\")"
   ],
   "id": "8027d51fe00b3b13",
   "outputs": [
    {
     "name": "stdout",
     "output_type": "stream",
     "text": [
      "Texto: Grilled chicken with rice and vegetables.\n",
      "Classe prevista: isFood | Probabilidade: 1.0000\n",
      "---\n",
      "Texto: Random sentence about the weather.\n",
      "Classe prevista: isNotFood | Probabilidade: 1.0000\n",
      "---\n",
      "Texto: Cabidela Rice\n",
      "Classe prevista: isFood | Probabilidade: 1.0000\n",
      "---\n",
      "Texto: Eu sou uma Porta\n",
      "Classe prevista: isNotFood | Probabilidade: 1.0000\n",
      "---\n",
      "Texto: Potatoes\n",
      "Classe prevista: isFood | Probabilidade: 0.9999\n",
      "---\n"
     ]
    }
   ],
   "execution_count": 10
  }
 ],
 "metadata": {
  "kernelspec": {
   "display_name": "Python 3",
   "language": "python",
   "name": "python3"
  },
  "language_info": {
   "codemirror_mode": {
    "name": "ipython",
    "version": 2
   },
   "file_extension": ".py",
   "mimetype": "text/x-python",
   "name": "python",
   "nbconvert_exporter": "python",
   "pygments_lexer": "ipython2",
   "version": "2.7.6"
  }
 },
 "nbformat": 4,
 "nbformat_minor": 5
}
