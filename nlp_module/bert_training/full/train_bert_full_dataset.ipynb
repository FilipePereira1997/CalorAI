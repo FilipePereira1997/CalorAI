{
 "cells": [
  {
   "metadata": {
    "ExecuteTime": {
     "end_time": "2025-03-22T00:28:23.744944Z",
     "start_time": "2025-03-22T00:28:17.262527Z"
    }
   },
   "cell_type": "code",
   "source": [
    "import pandas as pd\n",
    "import numpy as np\n",
    "import torch\n",
    "from transformers import AutoTokenizer, AutoModelForSequenceClassification, Trainer, TrainingArguments\n",
    "from datasets import Dataset\n",
    "from sklearn.metrics import mean_absolute_error, mean_squared_error, r2_score"
   ],
   "id": "929f0c76c77cbbdc",
   "outputs": [
    {
     "name": "stderr",
     "output_type": "stream",
     "text": [
      "D:\\dev\\Python\\.virtualenvs\\CalorAI-QUpcdUPk\\Lib\\site-packages\\tqdm\\auto.py:21: TqdmWarning: IProgress not found. Please update jupyter and ipywidgets. See https://ipywidgets.readthedocs.io/en/stable/user_install.html\n",
      "  from .autonotebook import tqdm as notebook_tqdm\n"
     ]
    }
   ],
   "execution_count": 1
  },
  {
   "metadata": {
    "ExecuteTime": {
     "end_time": "2025-03-22T00:28:24.461742Z",
     "start_time": "2025-03-22T00:28:23.757443Z"
    }
   },
   "cell_type": "code",
   "source": [
    "# Carregar datasets\n",
    "df = pd.read_parquet('../../datasets/fsda/fsda_insa_dataset_final.parquet')\n",
    "df"
   ],
   "id": "99f275d7fecddc71",
   "outputs": [
    {
     "data": {
      "text/plain": [
       "                                                FOOD_NAME  \\\n",
       "0                          KELLOGG APPLE JACKS .9OZ 100CT   \n",
       "1       GARDENBURGER GB VEGGIE BURGERS BLACK BEAN 3OZ ...   \n",
       "2                         KEEBLER CONES WAFFLE CONE 264CT   \n",
       "3                          KEEBLER CONES WAFFLE BOWL 60CT   \n",
       "4                         KEEBLER CONES WAFFLE CONE 264CT   \n",
       "...                                                   ...   \n",
       "457777                                 Vinho maduro tinto   \n",
       "457778                                         Vinho rosé   \n",
       "457779                                 Vinho verde branco   \n",
       "457780                                  Vinho verde tinto   \n",
       "457781                                   Wasabi raiz crua   \n",
       "\n",
       "                                         FOOD_INGREDIENTS FOOD_SERVING_SIZE  \\\n",
       "0       SUGAR, CORN FLOUR BLEND (WHOLE GRAIN YELLOW CO...            25.0 G   \n",
       "1       WATER, COOKED BLACK BEANS (BLACK BEANS, WATER)...            85.0 G   \n",
       "2       BLEACHED AND ENRICHED FLOUR (WHEAT FLOUR, NIAC...            14.0 G   \n",
       "3       BLEACHED AND ENRICHED FLOUR (WHEAT FLOUR, NIAC...            19.0 G   \n",
       "4       BLEACHED AND ENRICHED FLOUR (WHEAT FLOUR, NIAC...            14.0 G   \n",
       "...                                                   ...               ...   \n",
       "457777                                              vinho              100g   \n",
       "457778                                              vinho              100g   \n",
       "457779                                              vinho              100g   \n",
       "457780                                              vinho              100g   \n",
       "457781                                             wasabi              100g   \n",
       "\n",
       "        ENERGY (KCAL)  PROTEIN (G)  TOTAL LIPID (FAT) (G)  \\\n",
       "0               370.0          5.2                    3.7   \n",
       "1               112.0         10.8                    3.0   \n",
       "2               423.0          6.0                    5.0   \n",
       "3               424.0          6.5                    5.3   \n",
       "4               423.0          6.0                    5.0   \n",
       "...               ...          ...                    ...   \n",
       "457777           66.0          0.1                    0.0   \n",
       "457778           72.0          0.2                    0.0   \n",
       "457779           59.0          0.0                    0.0   \n",
       "457780           57.0          0.0                    0.0   \n",
       "457781          100.0          4.8                    0.6   \n",
       "\n",
       "        CARBOHYDRATE, BY DIFFERENCE (G) LANGUAGE  \n",
       "0                                  87.8       EN  \n",
       "1                                  16.9       EN  \n",
       "2                                  88.0       EN  \n",
       "3                                  87.7       EN  \n",
       "4                                  88.0       EN  \n",
       "...                                 ...      ...  \n",
       "457777                              0.2       PT  \n",
       "457778                              2.4       PT  \n",
       "457779                              0.1       PT  \n",
       "457780                              0.3       PT  \n",
       "457781                             15.8       PT  \n",
       "\n",
       "[457782 rows x 8 columns]"
      ],
      "text/html": [
       "<div>\n",
       "<style scoped>\n",
       "    .dataframe tbody tr th:only-of-type {\n",
       "        vertical-align: middle;\n",
       "    }\n",
       "\n",
       "    .dataframe tbody tr th {\n",
       "        vertical-align: top;\n",
       "    }\n",
       "\n",
       "    .dataframe thead th {\n",
       "        text-align: right;\n",
       "    }\n",
       "</style>\n",
       "<table border=\"1\" class=\"dataframe\">\n",
       "  <thead>\n",
       "    <tr style=\"text-align: right;\">\n",
       "      <th></th>\n",
       "      <th>FOOD_NAME</th>\n",
       "      <th>FOOD_INGREDIENTS</th>\n",
       "      <th>FOOD_SERVING_SIZE</th>\n",
       "      <th>ENERGY (KCAL)</th>\n",
       "      <th>PROTEIN (G)</th>\n",
       "      <th>TOTAL LIPID (FAT) (G)</th>\n",
       "      <th>CARBOHYDRATE, BY DIFFERENCE (G)</th>\n",
       "      <th>LANGUAGE</th>\n",
       "    </tr>\n",
       "  </thead>\n",
       "  <tbody>\n",
       "    <tr>\n",
       "      <th>0</th>\n",
       "      <td>KELLOGG APPLE JACKS .9OZ 100CT</td>\n",
       "      <td>SUGAR, CORN FLOUR BLEND (WHOLE GRAIN YELLOW CO...</td>\n",
       "      <td>25.0 G</td>\n",
       "      <td>370.0</td>\n",
       "      <td>5.2</td>\n",
       "      <td>3.7</td>\n",
       "      <td>87.8</td>\n",
       "      <td>EN</td>\n",
       "    </tr>\n",
       "    <tr>\n",
       "      <th>1</th>\n",
       "      <td>GARDENBURGER GB VEGGIE BURGERS BLACK BEAN 3OZ ...</td>\n",
       "      <td>WATER, COOKED BLACK BEANS (BLACK BEANS, WATER)...</td>\n",
       "      <td>85.0 G</td>\n",
       "      <td>112.0</td>\n",
       "      <td>10.8</td>\n",
       "      <td>3.0</td>\n",
       "      <td>16.9</td>\n",
       "      <td>EN</td>\n",
       "    </tr>\n",
       "    <tr>\n",
       "      <th>2</th>\n",
       "      <td>KEEBLER CONES WAFFLE CONE 264CT</td>\n",
       "      <td>BLEACHED AND ENRICHED FLOUR (WHEAT FLOUR, NIAC...</td>\n",
       "      <td>14.0 G</td>\n",
       "      <td>423.0</td>\n",
       "      <td>6.0</td>\n",
       "      <td>5.0</td>\n",
       "      <td>88.0</td>\n",
       "      <td>EN</td>\n",
       "    </tr>\n",
       "    <tr>\n",
       "      <th>3</th>\n",
       "      <td>KEEBLER CONES WAFFLE BOWL 60CT</td>\n",
       "      <td>BLEACHED AND ENRICHED FLOUR (WHEAT FLOUR, NIAC...</td>\n",
       "      <td>19.0 G</td>\n",
       "      <td>424.0</td>\n",
       "      <td>6.5</td>\n",
       "      <td>5.3</td>\n",
       "      <td>87.7</td>\n",
       "      <td>EN</td>\n",
       "    </tr>\n",
       "    <tr>\n",
       "      <th>4</th>\n",
       "      <td>KEEBLER CONES WAFFLE CONE 264CT</td>\n",
       "      <td>BLEACHED AND ENRICHED FLOUR (WHEAT FLOUR, NIAC...</td>\n",
       "      <td>14.0 G</td>\n",
       "      <td>423.0</td>\n",
       "      <td>6.0</td>\n",
       "      <td>5.0</td>\n",
       "      <td>88.0</td>\n",
       "      <td>EN</td>\n",
       "    </tr>\n",
       "    <tr>\n",
       "      <th>...</th>\n",
       "      <td>...</td>\n",
       "      <td>...</td>\n",
       "      <td>...</td>\n",
       "      <td>...</td>\n",
       "      <td>...</td>\n",
       "      <td>...</td>\n",
       "      <td>...</td>\n",
       "      <td>...</td>\n",
       "    </tr>\n",
       "    <tr>\n",
       "      <th>457777</th>\n",
       "      <td>Vinho maduro tinto</td>\n",
       "      <td>vinho</td>\n",
       "      <td>100g</td>\n",
       "      <td>66.0</td>\n",
       "      <td>0.1</td>\n",
       "      <td>0.0</td>\n",
       "      <td>0.2</td>\n",
       "      <td>PT</td>\n",
       "    </tr>\n",
       "    <tr>\n",
       "      <th>457778</th>\n",
       "      <td>Vinho rosé</td>\n",
       "      <td>vinho</td>\n",
       "      <td>100g</td>\n",
       "      <td>72.0</td>\n",
       "      <td>0.2</td>\n",
       "      <td>0.0</td>\n",
       "      <td>2.4</td>\n",
       "      <td>PT</td>\n",
       "    </tr>\n",
       "    <tr>\n",
       "      <th>457779</th>\n",
       "      <td>Vinho verde branco</td>\n",
       "      <td>vinho</td>\n",
       "      <td>100g</td>\n",
       "      <td>59.0</td>\n",
       "      <td>0.0</td>\n",
       "      <td>0.0</td>\n",
       "      <td>0.1</td>\n",
       "      <td>PT</td>\n",
       "    </tr>\n",
       "    <tr>\n",
       "      <th>457780</th>\n",
       "      <td>Vinho verde tinto</td>\n",
       "      <td>vinho</td>\n",
       "      <td>100g</td>\n",
       "      <td>57.0</td>\n",
       "      <td>0.0</td>\n",
       "      <td>0.0</td>\n",
       "      <td>0.3</td>\n",
       "      <td>PT</td>\n",
       "    </tr>\n",
       "    <tr>\n",
       "      <th>457781</th>\n",
       "      <td>Wasabi raiz crua</td>\n",
       "      <td>wasabi</td>\n",
       "      <td>100g</td>\n",
       "      <td>100.0</td>\n",
       "      <td>4.8</td>\n",
       "      <td>0.6</td>\n",
       "      <td>15.8</td>\n",
       "      <td>PT</td>\n",
       "    </tr>\n",
       "  </tbody>\n",
       "</table>\n",
       "<p>457782 rows × 8 columns</p>\n",
       "</div>"
      ]
     },
     "execution_count": 2,
     "metadata": {},
     "output_type": "execute_result"
    }
   ],
   "execution_count": 2
  },
  {
   "metadata": {
    "collapsed": true,
    "ExecuteTime": {
     "end_time": "2025-03-22T00:28:26.057074Z",
     "start_time": "2025-03-22T00:28:24.686317Z"
    }
   },
   "cell_type": "code",
   "source": [
    "# 2. Texto = nome + serving size\n",
    "df['input_text'] = df['FOOD_NAME'] + ' - ' + df['FOOD_SERVING_SIZE']\n",
    "\n",
    "# 3. Converter para Dataset Hugging Face\n",
    "macro_columns = [\"ENERGY (KCAL)\", \"PROTEIN (G)\", \"TOTAL LIPID (FAT) (G)\", \"CARBOHYDRATE, BY DIFFERENCE (G)\"]\n",
    "dataset = Dataset.from_pandas(df)"
   ],
   "id": "initial_id",
   "outputs": [],
   "execution_count": 3
  },
  {
   "metadata": {
    "ExecuteTime": {
     "end_time": "2025-03-22T00:28:43.176316Z",
     "start_time": "2025-03-22T00:28:26.089680Z"
    }
   },
   "cell_type": "code",
   "source": [
    "# 4. Tokenizer + tokenização batched\n",
    "model_name = \"xlm-roberta-base\"\n",
    "tokenizer = AutoTokenizer.from_pretrained(model_name)\n",
    "\n",
    "def tokenize_and_format(examples):\n",
    "    tokens = tokenizer(examples['input_text'], padding=\"max_length\", truncation=True, max_length=32)\n",
    "    labels = [[examples[col][i] for col in macro_columns] for i in range(len(examples['input_text']))]\n",
    "    tokens[\"labels\"] = labels\n",
    "    return tokens\n",
    "\n",
    "dataset = dataset.map(tokenize_and_format, batched=True)"
   ],
   "id": "4074e8cf6edccf47",
   "outputs": [
    {
     "name": "stderr",
     "output_type": "stream",
     "text": [
      "Map: 100%|██████████| 457782/457782 [00:15<00:00, 29496.65 examples/s]\n"
     ]
    }
   ],
   "execution_count": 4
  },
  {
   "metadata": {
    "ExecuteTime": {
     "end_time": "2025-03-22T00:28:43.798781Z",
     "start_time": "2025-03-22T00:28:43.183728Z"
    }
   },
   "cell_type": "code",
   "source": [
    "# 5. Split\n",
    "dataset = dataset.train_test_split(test_size=0.2)\n",
    "train_data = dataset[\"train\"]\n",
    "test_data = dataset[\"test\"]\n",
    "\n",
    "train_data.set_format(type=\"torch\")\n",
    "test_data.set_format(type=\"torch\")\n",
    "\n",
    "# 6. Modelo de regressão com Trainer\n",
    "model = AutoModelForSequenceClassification.from_pretrained(\n",
    "    model_name,\n",
    "    num_labels=4,\n",
    "    problem_type=\"regression\"\n",
    ")"
   ],
   "id": "444b5b8de7c47239",
   "outputs": [
    {
     "name": "stderr",
     "output_type": "stream",
     "text": [
      "Some weights of XLMRobertaForSequenceClassification were not initialized from the model checkpoint at xlm-roberta-base and are newly initialized: ['classifier.dense.bias', 'classifier.dense.weight', 'classifier.out_proj.bias', 'classifier.out_proj.weight']\n",
      "You should probably TRAIN this model on a down-stream task to be able to use it for predictions and inference.\n"
     ]
    }
   ],
   "execution_count": 5
  },
  {
   "metadata": {
    "ExecuteTime": {
     "end_time": "2025-03-22T00:28:43.868071Z",
     "start_time": "2025-03-22T00:28:43.863624Z"
    }
   },
   "cell_type": "code",
   "source": [
    "# 7. Métricas customizadas\n",
    "def compute_metrics(eval_pred):\n",
    "    preds, labels = eval_pred\n",
    "    preds = np.array(preds)\n",
    "    labels = np.array(labels)\n",
    "\n",
    "    mae = mean_absolute_error(labels, preds)\n",
    "    mse = mean_squared_error(labels, preds)\n",
    "    rmse = np.sqrt(mse)\n",
    "    r2 = r2_score(labels, preds)\n",
    "\n",
    "    return {\n",
    "        \"mae\": mae,\n",
    "        \"mse\": mse,\n",
    "        \"rmse\": rmse,\n",
    "        \"r2\": r2\n",
    "    }"
   ],
   "id": "ec25dfd192a571df",
   "outputs": [],
   "execution_count": 6
  },
  {
   "metadata": {
    "ExecuteTime": {
     "end_time": "2025-03-22T00:29:11.138273Z",
     "start_time": "2025-03-22T00:28:43.934311Z"
    }
   },
   "cell_type": "code",
   "source": [
    "# 8. Training arguments\n",
    "training_args = TrainingArguments(\n",
    "    output_dir=\"./results/bert_regression\",\n",
    "    eval_strategy=\"epoch\",\n",
    "    save_strategy=\"epoch\",\n",
    "    learning_rate=2e-5,\n",
    "    per_device_train_batch_size=16,\n",
    "    per_device_eval_batch_size=16,\n",
    "    num_train_epochs=5,\n",
    "    weight_decay=0.01,\n",
    "    load_best_model_at_end=True,\n",
    "    metric_for_best_model=\"mae\",\n",
    "    greater_is_better=False,\n",
    "    logging_dir=\"./logs/bert_regression\",\n",
    "    fp16=True\n",
    ")\n",
    "\n",
    "# 9. Trainer final\n",
    "trainer = Trainer(\n",
    "    model=model,\n",
    "    args=training_args,\n",
    "    train_dataset=train_data,\n",
    "    eval_dataset=test_data,\n",
    "    compute_metrics=compute_metrics\n",
    ")\n",
    "\n",
    "device = torch.device(\"cuda\") if torch.cuda.is_available() else torch.device(\"cpu\")\n",
    "trainer.model.to(device)\n",
    "\n",
    "trainer.train()"
   ],
   "id": "182787bb5834b635",
   "outputs": [
    {
     "data": {
      "text/plain": [
       "<IPython.core.display.HTML object>"
      ],
      "text/html": [
       "\n",
       "    <div>\n",
       "      \n",
       "      <progress value='40' max='114450' style='width:300px; height:20px; vertical-align: middle;'></progress>\n",
       "      [    40/114450 00:23 < 19:15:27, 1.65 it/s, Epoch 0.00/5]\n",
       "    </div>\n",
       "    <table border=\"1\" class=\"dataframe\">\n",
       "  <thead>\n",
       " <tr style=\"text-align: left;\">\n",
       "      <th>Epoch</th>\n",
       "      <th>Training Loss</th>\n",
       "      <th>Validation Loss</th>\n",
       "    </tr>\n",
       "  </thead>\n",
       "  <tbody>\n",
       "  </tbody>\n",
       "</table><p>"
      ]
     },
     "metadata": {},
     "output_type": "display_data"
    },
    {
     "ename": "KeyboardInterrupt",
     "evalue": "",
     "output_type": "error",
     "traceback": [
      "\u001B[31m---------------------------------------------------------------------------\u001B[39m",
      "\u001B[31mKeyboardInterrupt\u001B[39m                         Traceback (most recent call last)",
      "\u001B[36mCell\u001B[39m\u001B[36m \u001B[39m\u001B[32mIn[7]\u001B[39m\u001B[32m, line 30\u001B[39m\n\u001B[32m     27\u001B[39m device = torch.device(\u001B[33m\"\u001B[39m\u001B[33mcuda\u001B[39m\u001B[33m\"\u001B[39m) \u001B[38;5;28;01mif\u001B[39;00m torch.cuda.is_available() \u001B[38;5;28;01melse\u001B[39;00m torch.device(\u001B[33m\"\u001B[39m\u001B[33mcpu\u001B[39m\u001B[33m\"\u001B[39m)\n\u001B[32m     28\u001B[39m trainer.model.to(device)\n\u001B[32m---> \u001B[39m\u001B[32m30\u001B[39m \u001B[43mtrainer\u001B[49m\u001B[43m.\u001B[49m\u001B[43mtrain\u001B[49m\u001B[43m(\u001B[49m\u001B[43m)\u001B[49m\n",
      "\u001B[36mFile \u001B[39m\u001B[32mD:\\dev\\Python\\.virtualenvs\\CalorAI-QUpcdUPk\\Lib\\site-packages\\transformers\\trainer.py:2241\u001B[39m, in \u001B[36mTrainer.train\u001B[39m\u001B[34m(self, resume_from_checkpoint, trial, ignore_keys_for_eval, **kwargs)\u001B[39m\n\u001B[32m   2239\u001B[39m         hf_hub_utils.enable_progress_bars()\n\u001B[32m   2240\u001B[39m \u001B[38;5;28;01melse\u001B[39;00m:\n\u001B[32m-> \u001B[39m\u001B[32m2241\u001B[39m     \u001B[38;5;28;01mreturn\u001B[39;00m \u001B[43minner_training_loop\u001B[49m\u001B[43m(\u001B[49m\n\u001B[32m   2242\u001B[39m \u001B[43m        \u001B[49m\u001B[43margs\u001B[49m\u001B[43m=\u001B[49m\u001B[43margs\u001B[49m\u001B[43m,\u001B[49m\n\u001B[32m   2243\u001B[39m \u001B[43m        \u001B[49m\u001B[43mresume_from_checkpoint\u001B[49m\u001B[43m=\u001B[49m\u001B[43mresume_from_checkpoint\u001B[49m\u001B[43m,\u001B[49m\n\u001B[32m   2244\u001B[39m \u001B[43m        \u001B[49m\u001B[43mtrial\u001B[49m\u001B[43m=\u001B[49m\u001B[43mtrial\u001B[49m\u001B[43m,\u001B[49m\n\u001B[32m   2245\u001B[39m \u001B[43m        \u001B[49m\u001B[43mignore_keys_for_eval\u001B[49m\u001B[43m=\u001B[49m\u001B[43mignore_keys_for_eval\u001B[49m\u001B[43m,\u001B[49m\n\u001B[32m   2246\u001B[39m \u001B[43m    \u001B[49m\u001B[43m)\u001B[49m\n",
      "\u001B[36mFile \u001B[39m\u001B[32mD:\\dev\\Python\\.virtualenvs\\CalorAI-QUpcdUPk\\Lib\\site-packages\\transformers\\trainer.py:2599\u001B[39m, in \u001B[36mTrainer._inner_training_loop\u001B[39m\u001B[34m(self, batch_size, args, resume_from_checkpoint, trial, ignore_keys_for_eval)\u001B[39m\n\u001B[32m   2595\u001B[39m         grad_norm = _grad_norm\n\u001B[32m   2597\u001B[39m \u001B[38;5;28mself\u001B[39m.control = \u001B[38;5;28mself\u001B[39m.callback_handler.on_pre_optimizer_step(args, \u001B[38;5;28mself\u001B[39m.state, \u001B[38;5;28mself\u001B[39m.control)\n\u001B[32m-> \u001B[39m\u001B[32m2599\u001B[39m \u001B[38;5;28;43mself\u001B[39;49m\u001B[43m.\u001B[49m\u001B[43moptimizer\u001B[49m\u001B[43m.\u001B[49m\u001B[43mstep\u001B[49m\u001B[43m(\u001B[49m\u001B[43m)\u001B[49m\n\u001B[32m   2601\u001B[39m \u001B[38;5;28mself\u001B[39m.control = \u001B[38;5;28mself\u001B[39m.callback_handler.on_optimizer_step(args, \u001B[38;5;28mself\u001B[39m.state, \u001B[38;5;28mself\u001B[39m.control)\n\u001B[32m   2603\u001B[39m \u001B[38;5;28;01mif\u001B[39;00m \u001B[38;5;129;01mnot\u001B[39;00m \u001B[38;5;28mself\u001B[39m.accelerator.optimizer_step_was_skipped:\n\u001B[32m   2604\u001B[39m     \u001B[38;5;66;03m# Delay optimizer scheduling until metrics are generated\u001B[39;00m\n",
      "\u001B[36mFile \u001B[39m\u001B[32mD:\\dev\\Python\\.virtualenvs\\CalorAI-QUpcdUPk\\Lib\\site-packages\\accelerate\\optimizer.py:165\u001B[39m, in \u001B[36mAcceleratedOptimizer.step\u001B[39m\u001B[34m(self, closure)\u001B[39m\n\u001B[32m    162\u001B[39m \u001B[38;5;28;01mif\u001B[39;00m \u001B[38;5;28mself\u001B[39m.scaler \u001B[38;5;129;01mis\u001B[39;00m \u001B[38;5;129;01mnot\u001B[39;00m \u001B[38;5;28;01mNone\u001B[39;00m:\n\u001B[32m    163\u001B[39m     \u001B[38;5;28mself\u001B[39m.optimizer.step = \u001B[38;5;28mself\u001B[39m._optimizer_patched_step_method\n\u001B[32m--> \u001B[39m\u001B[32m165\u001B[39m     \u001B[38;5;28;43mself\u001B[39;49m\u001B[43m.\u001B[49m\u001B[43mscaler\u001B[49m\u001B[43m.\u001B[49m\u001B[43mstep\u001B[49m\u001B[43m(\u001B[49m\u001B[38;5;28;43mself\u001B[39;49m\u001B[43m.\u001B[49m\u001B[43moptimizer\u001B[49m\u001B[43m,\u001B[49m\u001B[43m \u001B[49m\u001B[43mclosure\u001B[49m\u001B[43m)\u001B[49m\n\u001B[32m    166\u001B[39m     \u001B[38;5;28mself\u001B[39m.scaler.update()\n\u001B[32m    168\u001B[39m     \u001B[38;5;28;01mif\u001B[39;00m \u001B[38;5;129;01mnot\u001B[39;00m \u001B[38;5;28mself\u001B[39m._accelerate_step_called:\n\u001B[32m    169\u001B[39m         \u001B[38;5;66;03m# If the optimizer step was skipped, gradient overflow was detected.\u001B[39;00m\n",
      "\u001B[36mFile \u001B[39m\u001B[32mD:\\dev\\Python\\.virtualenvs\\CalorAI-QUpcdUPk\\Lib\\site-packages\\torch\\amp\\grad_scaler.py:457\u001B[39m, in \u001B[36mGradScaler.step\u001B[39m\u001B[34m(self, optimizer, *args, **kwargs)\u001B[39m\n\u001B[32m    451\u001B[39m     \u001B[38;5;28mself\u001B[39m.unscale_(optimizer)\n\u001B[32m    453\u001B[39m \u001B[38;5;28;01massert\u001B[39;00m (\n\u001B[32m    454\u001B[39m     \u001B[38;5;28mlen\u001B[39m(optimizer_state[\u001B[33m\"\u001B[39m\u001B[33mfound_inf_per_device\u001B[39m\u001B[33m\"\u001B[39m]) > \u001B[32m0\u001B[39m\n\u001B[32m    455\u001B[39m ), \u001B[33m\"\u001B[39m\u001B[33mNo inf checks were recorded for this optimizer.\u001B[39m\u001B[33m\"\u001B[39m\n\u001B[32m--> \u001B[39m\u001B[32m457\u001B[39m retval = \u001B[38;5;28;43mself\u001B[39;49m\u001B[43m.\u001B[49m\u001B[43m_maybe_opt_step\u001B[49m\u001B[43m(\u001B[49m\u001B[43moptimizer\u001B[49m\u001B[43m,\u001B[49m\u001B[43m \u001B[49m\u001B[43moptimizer_state\u001B[49m\u001B[43m,\u001B[49m\u001B[43m \u001B[49m\u001B[43m*\u001B[49m\u001B[43margs\u001B[49m\u001B[43m,\u001B[49m\u001B[43m \u001B[49m\u001B[43m*\u001B[49m\u001B[43m*\u001B[49m\u001B[43mkwargs\u001B[49m\u001B[43m)\u001B[49m\n\u001B[32m    459\u001B[39m optimizer_state[\u001B[33m\"\u001B[39m\u001B[33mstage\u001B[39m\u001B[33m\"\u001B[39m] = OptState.STEPPED\n\u001B[32m    461\u001B[39m \u001B[38;5;28;01mreturn\u001B[39;00m retval\n",
      "\u001B[36mFile \u001B[39m\u001B[32mD:\\dev\\Python\\.virtualenvs\\CalorAI-QUpcdUPk\\Lib\\site-packages\\torch\\amp\\grad_scaler.py:352\u001B[39m, in \u001B[36mGradScaler._maybe_opt_step\u001B[39m\u001B[34m(self, optimizer, optimizer_state, *args, **kwargs)\u001B[39m\n\u001B[32m    350\u001B[39m retval: Optional[\u001B[38;5;28mfloat\u001B[39m] = \u001B[38;5;28;01mNone\u001B[39;00m\n\u001B[32m    351\u001B[39m \u001B[38;5;28;01mif\u001B[39;00m \u001B[38;5;129;01mnot\u001B[39;00m \u001B[38;5;28msum\u001B[39m(v.item() \u001B[38;5;28;01mfor\u001B[39;00m v \u001B[38;5;129;01min\u001B[39;00m optimizer_state[\u001B[33m\"\u001B[39m\u001B[33mfound_inf_per_device\u001B[39m\u001B[33m\"\u001B[39m].values()):\n\u001B[32m--> \u001B[39m\u001B[32m352\u001B[39m     retval = \u001B[43moptimizer\u001B[49m\u001B[43m.\u001B[49m\u001B[43mstep\u001B[49m\u001B[43m(\u001B[49m\u001B[43m*\u001B[49m\u001B[43margs\u001B[49m\u001B[43m,\u001B[49m\u001B[43m \u001B[49m\u001B[43m*\u001B[49m\u001B[43m*\u001B[49m\u001B[43mkwargs\u001B[49m\u001B[43m)\u001B[49m\n\u001B[32m    353\u001B[39m \u001B[38;5;28;01mreturn\u001B[39;00m retval\n",
      "\u001B[36mFile \u001B[39m\u001B[32mD:\\dev\\Python\\.virtualenvs\\CalorAI-QUpcdUPk\\Lib\\site-packages\\accelerate\\optimizer.py:210\u001B[39m, in \u001B[36mpatch_optimizer_step.<locals>.patched_step\u001B[39m\u001B[34m(*args, **kwargs)\u001B[39m\n\u001B[32m    208\u001B[39m \u001B[38;5;28;01mdef\u001B[39;00m\u001B[38;5;250m \u001B[39m\u001B[34mpatched_step\u001B[39m(*args, **kwargs):\n\u001B[32m    209\u001B[39m     accelerated_optimizer._accelerate_step_called = \u001B[38;5;28;01mTrue\u001B[39;00m\n\u001B[32m--> \u001B[39m\u001B[32m210\u001B[39m     \u001B[38;5;28;01mreturn\u001B[39;00m \u001B[43mmethod\u001B[49m\u001B[43m(\u001B[49m\u001B[43m*\u001B[49m\u001B[43margs\u001B[49m\u001B[43m,\u001B[49m\u001B[43m \u001B[49m\u001B[43m*\u001B[49m\u001B[43m*\u001B[49m\u001B[43mkwargs\u001B[49m\u001B[43m)\u001B[49m\n",
      "\u001B[36mFile \u001B[39m\u001B[32mD:\\dev\\Python\\.virtualenvs\\CalorAI-QUpcdUPk\\Lib\\site-packages\\torch\\optim\\lr_scheduler.py:140\u001B[39m, in \u001B[36mLRScheduler.__init__.<locals>.patch_track_step_called.<locals>.wrap_step.<locals>.wrapper\u001B[39m\u001B[34m(*args, **kwargs)\u001B[39m\n\u001B[32m    138\u001B[39m opt = opt_ref()\n\u001B[32m    139\u001B[39m opt._opt_called = \u001B[38;5;28;01mTrue\u001B[39;00m  \u001B[38;5;66;03m# type: ignore[union-attr]\u001B[39;00m\n\u001B[32m--> \u001B[39m\u001B[32m140\u001B[39m \u001B[38;5;28;01mreturn\u001B[39;00m \u001B[43mfunc\u001B[49m\u001B[43m.\u001B[49m\u001B[34;43m__get__\u001B[39;49m\u001B[43m(\u001B[49m\u001B[43mopt\u001B[49m\u001B[43m,\u001B[49m\u001B[43m \u001B[49m\u001B[43mopt\u001B[49m\u001B[43m.\u001B[49m\u001B[34;43m__class__\u001B[39;49m\u001B[43m)\u001B[49m\u001B[43m(\u001B[49m\u001B[43m*\u001B[49m\u001B[43margs\u001B[49m\u001B[43m,\u001B[49m\u001B[43m \u001B[49m\u001B[43m*\u001B[49m\u001B[43m*\u001B[49m\u001B[43mkwargs\u001B[49m\u001B[43m)\u001B[49m\n",
      "\u001B[36mFile \u001B[39m\u001B[32mD:\\dev\\Python\\.virtualenvs\\CalorAI-QUpcdUPk\\Lib\\site-packages\\torch\\optim\\optimizer.py:493\u001B[39m, in \u001B[36mOptimizer.profile_hook_step.<locals>.wrapper\u001B[39m\u001B[34m(*args, **kwargs)\u001B[39m\n\u001B[32m    488\u001B[39m         \u001B[38;5;28;01melse\u001B[39;00m:\n\u001B[32m    489\u001B[39m             \u001B[38;5;28;01mraise\u001B[39;00m \u001B[38;5;167;01mRuntimeError\u001B[39;00m(\n\u001B[32m    490\u001B[39m                 \u001B[33mf\u001B[39m\u001B[33m\"\u001B[39m\u001B[38;5;132;01m{\u001B[39;00mfunc\u001B[38;5;132;01m}\u001B[39;00m\u001B[33m must return None or a tuple of (new_args, new_kwargs), but got \u001B[39m\u001B[38;5;132;01m{\u001B[39;00mresult\u001B[38;5;132;01m}\u001B[39;00m\u001B[33m.\u001B[39m\u001B[33m\"\u001B[39m\n\u001B[32m    491\u001B[39m             )\n\u001B[32m--> \u001B[39m\u001B[32m493\u001B[39m out = \u001B[43mfunc\u001B[49m\u001B[43m(\u001B[49m\u001B[43m*\u001B[49m\u001B[43margs\u001B[49m\u001B[43m,\u001B[49m\u001B[43m \u001B[49m\u001B[43m*\u001B[49m\u001B[43m*\u001B[49m\u001B[43mkwargs\u001B[49m\u001B[43m)\u001B[49m\n\u001B[32m    494\u001B[39m \u001B[38;5;28mself\u001B[39m._optimizer_step_code()\n\u001B[32m    496\u001B[39m \u001B[38;5;66;03m# call optimizer step post hooks\u001B[39;00m\n",
      "\u001B[36mFile \u001B[39m\u001B[32mD:\\dev\\Python\\.virtualenvs\\CalorAI-QUpcdUPk\\Lib\\site-packages\\torch\\optim\\optimizer.py:91\u001B[39m, in \u001B[36m_use_grad_for_differentiable.<locals>._use_grad\u001B[39m\u001B[34m(self, *args, **kwargs)\u001B[39m\n\u001B[32m     89\u001B[39m     torch.set_grad_enabled(\u001B[38;5;28mself\u001B[39m.defaults[\u001B[33m\"\u001B[39m\u001B[33mdifferentiable\u001B[39m\u001B[33m\"\u001B[39m])\n\u001B[32m     90\u001B[39m     torch._dynamo.graph_break()\n\u001B[32m---> \u001B[39m\u001B[32m91\u001B[39m     ret = \u001B[43mfunc\u001B[49m\u001B[43m(\u001B[49m\u001B[38;5;28;43mself\u001B[39;49m\u001B[43m,\u001B[49m\u001B[43m \u001B[49m\u001B[43m*\u001B[49m\u001B[43margs\u001B[49m\u001B[43m,\u001B[49m\u001B[43m \u001B[49m\u001B[43m*\u001B[49m\u001B[43m*\u001B[49m\u001B[43mkwargs\u001B[49m\u001B[43m)\u001B[49m\n\u001B[32m     92\u001B[39m \u001B[38;5;28;01mfinally\u001B[39;00m:\n\u001B[32m     93\u001B[39m     torch._dynamo.graph_break()\n",
      "\u001B[36mFile \u001B[39m\u001B[32mD:\\dev\\Python\\.virtualenvs\\CalorAI-QUpcdUPk\\Lib\\site-packages\\torch\\optim\\adamw.py:243\u001B[39m, in \u001B[36mAdamW.step\u001B[39m\u001B[34m(self, closure)\u001B[39m\n\u001B[32m    230\u001B[39m     beta1, beta2 = cast(Tuple[\u001B[38;5;28mfloat\u001B[39m, \u001B[38;5;28mfloat\u001B[39m], group[\u001B[33m\"\u001B[39m\u001B[33mbetas\u001B[39m\u001B[33m\"\u001B[39m])\n\u001B[32m    232\u001B[39m     has_complex = \u001B[38;5;28mself\u001B[39m._init_group(\n\u001B[32m    233\u001B[39m         group,\n\u001B[32m    234\u001B[39m         params_with_grad,\n\u001B[32m   (...)\u001B[39m\u001B[32m    240\u001B[39m         state_steps,\n\u001B[32m    241\u001B[39m     )\n\u001B[32m--> \u001B[39m\u001B[32m243\u001B[39m     \u001B[43madamw\u001B[49m\u001B[43m(\u001B[49m\n\u001B[32m    244\u001B[39m \u001B[43m        \u001B[49m\u001B[43mparams_with_grad\u001B[49m\u001B[43m,\u001B[49m\n\u001B[32m    245\u001B[39m \u001B[43m        \u001B[49m\u001B[43mgrads\u001B[49m\u001B[43m,\u001B[49m\n\u001B[32m    246\u001B[39m \u001B[43m        \u001B[49m\u001B[43mexp_avgs\u001B[49m\u001B[43m,\u001B[49m\n\u001B[32m    247\u001B[39m \u001B[43m        \u001B[49m\u001B[43mexp_avg_sqs\u001B[49m\u001B[43m,\u001B[49m\n\u001B[32m    248\u001B[39m \u001B[43m        \u001B[49m\u001B[43mmax_exp_avg_sqs\u001B[49m\u001B[43m,\u001B[49m\n\u001B[32m    249\u001B[39m \u001B[43m        \u001B[49m\u001B[43mstate_steps\u001B[49m\u001B[43m,\u001B[49m\n\u001B[32m    250\u001B[39m \u001B[43m        \u001B[49m\u001B[43mamsgrad\u001B[49m\u001B[43m=\u001B[49m\u001B[43mamsgrad\u001B[49m\u001B[43m,\u001B[49m\n\u001B[32m    251\u001B[39m \u001B[43m        \u001B[49m\u001B[43mbeta1\u001B[49m\u001B[43m=\u001B[49m\u001B[43mbeta1\u001B[49m\u001B[43m,\u001B[49m\n\u001B[32m    252\u001B[39m \u001B[43m        \u001B[49m\u001B[43mbeta2\u001B[49m\u001B[43m=\u001B[49m\u001B[43mbeta2\u001B[49m\u001B[43m,\u001B[49m\n\u001B[32m    253\u001B[39m \u001B[43m        \u001B[49m\u001B[43mlr\u001B[49m\u001B[43m=\u001B[49m\u001B[43mgroup\u001B[49m\u001B[43m[\u001B[49m\u001B[33;43m\"\u001B[39;49m\u001B[33;43mlr\u001B[39;49m\u001B[33;43m\"\u001B[39;49m\u001B[43m]\u001B[49m\u001B[43m,\u001B[49m\n\u001B[32m    254\u001B[39m \u001B[43m        \u001B[49m\u001B[43mweight_decay\u001B[49m\u001B[43m=\u001B[49m\u001B[43mgroup\u001B[49m\u001B[43m[\u001B[49m\u001B[33;43m\"\u001B[39;49m\u001B[33;43mweight_decay\u001B[39;49m\u001B[33;43m\"\u001B[39;49m\u001B[43m]\u001B[49m\u001B[43m,\u001B[49m\n\u001B[32m    255\u001B[39m \u001B[43m        \u001B[49m\u001B[43meps\u001B[49m\u001B[43m=\u001B[49m\u001B[43mgroup\u001B[49m\u001B[43m[\u001B[49m\u001B[33;43m\"\u001B[39;49m\u001B[33;43meps\u001B[39;49m\u001B[33;43m\"\u001B[39;49m\u001B[43m]\u001B[49m\u001B[43m,\u001B[49m\n\u001B[32m    256\u001B[39m \u001B[43m        \u001B[49m\u001B[43mmaximize\u001B[49m\u001B[43m=\u001B[49m\u001B[43mgroup\u001B[49m\u001B[43m[\u001B[49m\u001B[33;43m\"\u001B[39;49m\u001B[33;43mmaximize\u001B[39;49m\u001B[33;43m\"\u001B[39;49m\u001B[43m]\u001B[49m\u001B[43m,\u001B[49m\n\u001B[32m    257\u001B[39m \u001B[43m        \u001B[49m\u001B[43mforeach\u001B[49m\u001B[43m=\u001B[49m\u001B[43mgroup\u001B[49m\u001B[43m[\u001B[49m\u001B[33;43m\"\u001B[39;49m\u001B[33;43mforeach\u001B[39;49m\u001B[33;43m\"\u001B[39;49m\u001B[43m]\u001B[49m\u001B[43m,\u001B[49m\n\u001B[32m    258\u001B[39m \u001B[43m        \u001B[49m\u001B[43mcapturable\u001B[49m\u001B[43m=\u001B[49m\u001B[43mgroup\u001B[49m\u001B[43m[\u001B[49m\u001B[33;43m\"\u001B[39;49m\u001B[33;43mcapturable\u001B[39;49m\u001B[33;43m\"\u001B[39;49m\u001B[43m]\u001B[49m\u001B[43m,\u001B[49m\n\u001B[32m    259\u001B[39m \u001B[43m        \u001B[49m\u001B[43mdifferentiable\u001B[49m\u001B[43m=\u001B[49m\u001B[43mgroup\u001B[49m\u001B[43m[\u001B[49m\u001B[33;43m\"\u001B[39;49m\u001B[33;43mdifferentiable\u001B[39;49m\u001B[33;43m\"\u001B[39;49m\u001B[43m]\u001B[49m\u001B[43m,\u001B[49m\n\u001B[32m    260\u001B[39m \u001B[43m        \u001B[49m\u001B[43mfused\u001B[49m\u001B[43m=\u001B[49m\u001B[43mgroup\u001B[49m\u001B[43m[\u001B[49m\u001B[33;43m\"\u001B[39;49m\u001B[33;43mfused\u001B[39;49m\u001B[33;43m\"\u001B[39;49m\u001B[43m]\u001B[49m\u001B[43m,\u001B[49m\n\u001B[32m    261\u001B[39m \u001B[43m        \u001B[49m\u001B[43mgrad_scale\u001B[49m\u001B[43m=\u001B[49m\u001B[38;5;28;43mgetattr\u001B[39;49m\u001B[43m(\u001B[49m\u001B[38;5;28;43mself\u001B[39;49m\u001B[43m,\u001B[49m\u001B[43m \u001B[49m\u001B[33;43m\"\u001B[39;49m\u001B[33;43mgrad_scale\u001B[39;49m\u001B[33;43m\"\u001B[39;49m\u001B[43m,\u001B[49m\u001B[43m \u001B[49m\u001B[38;5;28;43;01mNone\u001B[39;49;00m\u001B[43m)\u001B[49m\u001B[43m,\u001B[49m\n\u001B[32m    262\u001B[39m \u001B[43m        \u001B[49m\u001B[43mfound_inf\u001B[49m\u001B[43m=\u001B[49m\u001B[38;5;28;43mgetattr\u001B[39;49m\u001B[43m(\u001B[49m\u001B[38;5;28;43mself\u001B[39;49m\u001B[43m,\u001B[49m\u001B[43m \u001B[49m\u001B[33;43m\"\u001B[39;49m\u001B[33;43mfound_inf\u001B[39;49m\u001B[33;43m\"\u001B[39;49m\u001B[43m,\u001B[49m\u001B[43m \u001B[49m\u001B[38;5;28;43;01mNone\u001B[39;49;00m\u001B[43m)\u001B[49m\u001B[43m,\u001B[49m\n\u001B[32m    263\u001B[39m \u001B[43m        \u001B[49m\u001B[43mhas_complex\u001B[49m\u001B[43m=\u001B[49m\u001B[43mhas_complex\u001B[49m\u001B[43m,\u001B[49m\n\u001B[32m    264\u001B[39m \u001B[43m    \u001B[49m\u001B[43m)\u001B[49m\n\u001B[32m    266\u001B[39m \u001B[38;5;28;01mreturn\u001B[39;00m loss\n",
      "\u001B[36mFile \u001B[39m\u001B[32mD:\\dev\\Python\\.virtualenvs\\CalorAI-QUpcdUPk\\Lib\\site-packages\\torch\\optim\\optimizer.py:154\u001B[39m, in \u001B[36m_disable_dynamo_if_unsupported.<locals>.wrapper.<locals>.maybe_fallback\u001B[39m\u001B[34m(*args, **kwargs)\u001B[39m\n\u001B[32m    152\u001B[39m     \u001B[38;5;28;01mreturn\u001B[39;00m disabled_func(*args, **kwargs)\n\u001B[32m    153\u001B[39m \u001B[38;5;28;01melse\u001B[39;00m:\n\u001B[32m--> \u001B[39m\u001B[32m154\u001B[39m     \u001B[38;5;28;01mreturn\u001B[39;00m \u001B[43mfunc\u001B[49m\u001B[43m(\u001B[49m\u001B[43m*\u001B[49m\u001B[43margs\u001B[49m\u001B[43m,\u001B[49m\u001B[43m \u001B[49m\u001B[43m*\u001B[49m\u001B[43m*\u001B[49m\u001B[43mkwargs\u001B[49m\u001B[43m)\u001B[49m\n",
      "\u001B[36mFile \u001B[39m\u001B[32mD:\\dev\\Python\\.virtualenvs\\CalorAI-QUpcdUPk\\Lib\\site-packages\\torch\\optim\\adamw.py:875\u001B[39m, in \u001B[36madamw\u001B[39m\u001B[34m(params, grads, exp_avgs, exp_avg_sqs, max_exp_avg_sqs, state_steps, foreach, capturable, differentiable, fused, grad_scale, found_inf, has_complex, amsgrad, beta1, beta2, lr, weight_decay, eps, maximize)\u001B[39m\n\u001B[32m    872\u001B[39m \u001B[38;5;28;01melse\u001B[39;00m:\n\u001B[32m    873\u001B[39m     func = _single_tensor_adamw\n\u001B[32m--> \u001B[39m\u001B[32m875\u001B[39m \u001B[43mfunc\u001B[49m\u001B[43m(\u001B[49m\n\u001B[32m    876\u001B[39m \u001B[43m    \u001B[49m\u001B[43mparams\u001B[49m\u001B[43m,\u001B[49m\n\u001B[32m    877\u001B[39m \u001B[43m    \u001B[49m\u001B[43mgrads\u001B[49m\u001B[43m,\u001B[49m\n\u001B[32m    878\u001B[39m \u001B[43m    \u001B[49m\u001B[43mexp_avgs\u001B[49m\u001B[43m,\u001B[49m\n\u001B[32m    879\u001B[39m \u001B[43m    \u001B[49m\u001B[43mexp_avg_sqs\u001B[49m\u001B[43m,\u001B[49m\n\u001B[32m    880\u001B[39m \u001B[43m    \u001B[49m\u001B[43mmax_exp_avg_sqs\u001B[49m\u001B[43m,\u001B[49m\n\u001B[32m    881\u001B[39m \u001B[43m    \u001B[49m\u001B[43mstate_steps\u001B[49m\u001B[43m,\u001B[49m\n\u001B[32m    882\u001B[39m \u001B[43m    \u001B[49m\u001B[43mamsgrad\u001B[49m\u001B[43m=\u001B[49m\u001B[43mamsgrad\u001B[49m\u001B[43m,\u001B[49m\n\u001B[32m    883\u001B[39m \u001B[43m    \u001B[49m\u001B[43mbeta1\u001B[49m\u001B[43m=\u001B[49m\u001B[43mbeta1\u001B[49m\u001B[43m,\u001B[49m\n\u001B[32m    884\u001B[39m \u001B[43m    \u001B[49m\u001B[43mbeta2\u001B[49m\u001B[43m=\u001B[49m\u001B[43mbeta2\u001B[49m\u001B[43m,\u001B[49m\n\u001B[32m    885\u001B[39m \u001B[43m    \u001B[49m\u001B[43mlr\u001B[49m\u001B[43m=\u001B[49m\u001B[43mlr\u001B[49m\u001B[43m,\u001B[49m\n\u001B[32m    886\u001B[39m \u001B[43m    \u001B[49m\u001B[43mweight_decay\u001B[49m\u001B[43m=\u001B[49m\u001B[43mweight_decay\u001B[49m\u001B[43m,\u001B[49m\n\u001B[32m    887\u001B[39m \u001B[43m    \u001B[49m\u001B[43meps\u001B[49m\u001B[43m=\u001B[49m\u001B[43meps\u001B[49m\u001B[43m,\u001B[49m\n\u001B[32m    888\u001B[39m \u001B[43m    \u001B[49m\u001B[43mmaximize\u001B[49m\u001B[43m=\u001B[49m\u001B[43mmaximize\u001B[49m\u001B[43m,\u001B[49m\n\u001B[32m    889\u001B[39m \u001B[43m    \u001B[49m\u001B[43mcapturable\u001B[49m\u001B[43m=\u001B[49m\u001B[43mcapturable\u001B[49m\u001B[43m,\u001B[49m\n\u001B[32m    890\u001B[39m \u001B[43m    \u001B[49m\u001B[43mdifferentiable\u001B[49m\u001B[43m=\u001B[49m\u001B[43mdifferentiable\u001B[49m\u001B[43m,\u001B[49m\n\u001B[32m    891\u001B[39m \u001B[43m    \u001B[49m\u001B[43mgrad_scale\u001B[49m\u001B[43m=\u001B[49m\u001B[43mgrad_scale\u001B[49m\u001B[43m,\u001B[49m\n\u001B[32m    892\u001B[39m \u001B[43m    \u001B[49m\u001B[43mfound_inf\u001B[49m\u001B[43m=\u001B[49m\u001B[43mfound_inf\u001B[49m\u001B[43m,\u001B[49m\n\u001B[32m    893\u001B[39m \u001B[43m    \u001B[49m\u001B[43mhas_complex\u001B[49m\u001B[43m=\u001B[49m\u001B[43mhas_complex\u001B[49m\u001B[43m,\u001B[49m\n\u001B[32m    894\u001B[39m \u001B[43m\u001B[49m\u001B[43m)\u001B[49m\n",
      "\u001B[36mFile \u001B[39m\u001B[32mD:\\dev\\Python\\.virtualenvs\\CalorAI-QUpcdUPk\\Lib\\site-packages\\torch\\optim\\adamw.py:612\u001B[39m, in \u001B[36m_multi_tensor_adamw\u001B[39m\u001B[34m(params, grads, exp_avgs, exp_avg_sqs, max_exp_avg_sqs, state_steps, grad_scale, found_inf, amsgrad, beta1, beta2, lr, weight_decay, eps, maximize, capturable, differentiable, has_complex)\u001B[39m\n\u001B[32m    609\u001B[39m     torch._foreach_mul_(device_params, \u001B[32m1\u001B[39m - lr * weight_decay)\n\u001B[32m    611\u001B[39m \u001B[38;5;66;03m# Decay the first and second moment running average coefficient\u001B[39;00m\n\u001B[32m--> \u001B[39m\u001B[32m612\u001B[39m \u001B[43mtorch\u001B[49m\u001B[43m.\u001B[49m\u001B[43m_foreach_lerp_\u001B[49m\u001B[43m(\u001B[49m\u001B[43mdevice_exp_avgs\u001B[49m\u001B[43m,\u001B[49m\u001B[43m \u001B[49m\u001B[43mdevice_grads\u001B[49m\u001B[43m,\u001B[49m\u001B[43m \u001B[49m\u001B[32;43m1\u001B[39;49m\u001B[43m \u001B[49m\u001B[43m-\u001B[49m\u001B[43m \u001B[49m\u001B[43mdevice_beta1\u001B[49m\u001B[43m)\u001B[49m\n\u001B[32m    614\u001B[39m torch._foreach_mul_(device_exp_avg_sqs, beta2)\n\u001B[32m    615\u001B[39m \u001B[38;5;66;03m# Due to the strictness of the _foreach_addcmul API, we can't have a single\u001B[39;00m\n\u001B[32m    616\u001B[39m \u001B[38;5;66;03m# tensor scalar as the scalar arg (only python number is supported there)\u001B[39;00m\n\u001B[32m    617\u001B[39m \u001B[38;5;66;03m# as a result, separate out the value mul\u001B[39;00m\n\u001B[32m    618\u001B[39m \u001B[38;5;66;03m# Filed https://github.com/pytorch/pytorch/issues/139795\u001B[39;00m\n",
      "\u001B[31mKeyboardInterrupt\u001B[39m: "
     ]
    }
   ],
   "execution_count": 7
  },
  {
   "metadata": {},
   "cell_type": "code",
   "source": [
    "# 10. Salvar modelo e tokenizer\n",
    "model.save_pretrained(\"./models/bert_regression\")\n",
    "tokenizer.save_pretrained(\"./models/bert_regression\")"
   ],
   "id": "46e940e8aa274b1a",
   "outputs": [],
   "execution_count": null
  }
 ],
 "metadata": {
  "kernelspec": {
   "display_name": "Python 3",
   "language": "python",
   "name": "python3"
  },
  "language_info": {
   "codemirror_mode": {
    "name": "ipython",
    "version": 2
   },
   "file_extension": ".py",
   "mimetype": "text/x-python",
   "name": "python",
   "nbconvert_exporter": "python",
   "pygments_lexer": "ipython2",
   "version": "2.7.6"
  }
 },
 "nbformat": 4,
 "nbformat_minor": 5
}
