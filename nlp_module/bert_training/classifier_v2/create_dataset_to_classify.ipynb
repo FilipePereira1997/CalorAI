{
 "cells": [
  {
   "cell_type": "code",
   "id": "initial_id",
   "metadata": {
    "collapsed": true,
    "ExecuteTime": {
     "end_time": "2025-03-22T11:56:26.012434Z",
     "start_time": "2025-03-22T11:56:25.487910Z"
    }
   },
   "source": [
    "import pandas as pd\n",
    "import json\n",
    "\n",
    "# 🥗 1. Produtos em PT (já filtrados)\n",
    "df_pt_food = pd.read_parquet(\"../../datasets/openfoods/produtos_openfoodfacts_pt_br.parquet\")\n",
    "\n",
    "df_insa_pt_food = pd.read_parquet(\"../../datasets/fsda/fsda_insa_dataset_final.parquet\")"
   ],
   "outputs": [],
   "execution_count": 4
  },
  {
   "metadata": {
    "ExecuteTime": {
     "end_time": "2025-03-22T11:58:15.525119Z",
     "start_time": "2025-03-22T11:58:15.516016Z"
    }
   },
   "cell_type": "code",
   "source": [
    "## Process df_insa_pt_food\n",
    "## Keep only lines with LANGUAGE == 'pt'\n",
    "df_insa_pt_food = df_insa_pt_food[df_insa_pt_food['LANGUAGE'] == 'PT']\n",
    "\n",
    "# 2️⃣ Criar set para armazenar ingredientes únicos\n",
    "ingredientes_set = set()\n",
    "\n",
    "# 3️⃣ Separar ingredientes de cada linha e adicionar ao set\n",
    "for row in df_insa_pt_food['FOOD_INGREDIENTS']:\n",
    "    ingredientes = [i.strip().lower() for i in row.split(',') if i.strip()]\n",
    "    ingredientes_set.update(ingredientes)\n",
    "\n",
    "# 4️⃣ Converter para DataFrame final\n",
    "df_ingredientes_unicos = pd.DataFrame(list(ingredientes_set), columns=['text'])"
   ],
   "id": "f93ab996d5d2dc0c",
   "outputs": [
    {
     "name": "stdout",
     "output_type": "stream",
     "text": [
      "               text  label\n",
      "0        clementina      1\n",
      "1  açafrão-da-índia      1\n",
      "2   feijão-manteiga      1\n",
      "3              raia      1\n",
      "4              coco      1\n",
      "✅ Total de ingredientes únicos: 525\n"
     ]
    }
   ],
   "execution_count": 6
  },
  {
   "metadata": {
    "ExecuteTime": {
     "end_time": "2025-03-22T12:00:33.228806Z",
     "start_time": "2025-03-22T12:00:33.209137Z"
    }
   },
   "cell_type": "code",
   "source": [
    "# Garantir que os nomes das colunas fiquem iguais\n",
    "df_insa_pt_food_final = df_insa_pt_food[['FOOD_NAME']].rename(columns={'FOOD_NAME': 'text'})\n",
    "df_pt_food_final = df_pt_food[['product_name']].rename(columns={'product_name': 'text'})\n",
    "df_ingredientes_unicos_final = df_ingredientes_unicos[['text']]  # Já está certo\n",
    "\n",
    "# Juntar os 3 datasets\n",
    "df_pos_final = pd.concat([\n",
    "    df_insa_pt_food_final,\n",
    "    df_pt_food_final,\n",
    "    df_ingredientes_unicos_final\n",
    "], ignore_index=True)\n",
    "\n",
    "# Remover duplicados caso exista overlap\n",
    "df_pos_final = df_pos_final.drop_duplicates(subset=\"text\").reset_index(drop=True)\n",
    "\n",
    "# Adicionar a coluna isFood = 1\n",
    "df_pos_final['isFood'] = 1\n",
    "\n",
    "print(df_pos_final.head())\n",
    "print(f\"✅ Dataset final de positivos tem {len(df_pos_final)} linhas\")\n"
   ],
   "id": "5127255b03fd7f74",
   "outputs": [
    {
     "name": "stdout",
     "output_type": "stream",
     "text": [
      "                   text  isFood\n",
      "0          Abacate Hass       1\n",
      "1  Abóbora cristalizada       1\n",
      "2          Abóbora crua       1\n",
      "3        Abrótea cozida       1\n",
      "4          Abrótea crua       1\n",
      "✅ Dataset final de positivos tem 31674 linhas\n"
     ]
    }
   ],
   "execution_count": 7
  },
  {
   "metadata": {
    "ExecuteTime": {
     "end_time": "2025-03-22T12:02:45.158914Z",
     "start_time": "2025-03-22T12:02:44.540313Z"
    }
   },
   "cell_type": "code",
   "source": [
    "df_insa_pt_food_original = pd.read_parquet(\"../../datasets/fsda/fsda_insa_dataset_final.parquet\")\n",
    "\n",
    "# 1️⃣ Filtrar o dataset original para EN\n",
    "df_insa_en_food = df_insa_pt_food_original[df_insa_pt_food_original['LANGUAGE'] == 'EN']\n",
    "\n",
    "# 2️⃣ Balancear - pegar o mesmo número de linhas do PT\n",
    "n_pt = len(df_pos_final)  # já filtrado anteriormente em PT\n",
    "\n",
    "df_insa_en_food = df_insa_en_food.sample(n=n_pt, random_state=42)\n",
    "\n",
    "# 3️⃣ Padronizar coluna para merge\n",
    "df_insa_en_food_final = df_insa_en_food[['FOOD_NAME']].rename(columns={'FOOD_NAME': 'text'})\n",
    "df_insa_en_food_final['isFood'] = 1\n",
    "\n",
    "print(df_insa_en_food_final.head())\n",
    "print(f\"✅ Balanceado com {len(df_insa_en_food_final)} linhas em EN\")"
   ],
   "id": "86b8c401111797d7",
   "outputs": [
    {
     "name": "stdout",
     "output_type": "stream",
     "text": [
      "                                                     text  isFood\n",
      "135346                                    YOGURT PRETZELS       1\n",
      "76590               EL YUCATECO, CHILE HABANERO HOT SAUCE       1\n",
      "18012   STARBUCKS CARAMEL MEDIUM ROAST LATIN AMERICAN ...       1\n",
      "254659                 SNYDER'S OF HANOVER, MINI PRETZELS       1\n",
      "80305        SPICY CHEESE STUFFED MEATBALLS, SPICY CHEESE       1\n",
      "✅ Balanceado com 31674 linhas em EN\n"
     ]
    }
   ],
   "execution_count": 8
  },
  {
   "metadata": {
    "ExecuteTime": {
     "end_time": "2025-03-22T12:04:02.512659Z",
     "start_time": "2025-03-22T12:04:02.505852Z"
    }
   },
   "cell_type": "code",
   "source": [
    "# Juntar os 2 datasets\n",
    "df_positive_final = pd.concat([\n",
    "    df_insa_en_food_final,\n",
    "    df_pos_final\n",
    "], ignore_index=True)\n",
    "print(f\"✅ Dataset final de positivos tem {len(df_positive_final)} linhas\")"
   ],
   "id": "7a1a9ad38805abd7",
   "outputs": [
    {
     "name": "stdout",
     "output_type": "stream",
     "text": [
      "✅ Dataset final de positivos tem 63348 linhas\n"
     ]
    }
   ],
   "execution_count": 9
  },
  {
   "metadata": {
    "ExecuteTime": {
     "end_time": "2025-03-22T12:06:17.053804Z",
     "start_time": "2025-03-22T12:06:16.796120Z"
    }
   },
   "cell_type": "code",
   "source": [
    "import json\n",
    "\n",
    "n_pos = 63348 // 2  # Metade PT e metade EN\n",
    "\n",
    "# 1️⃣ Carregar PT negativos\n",
    "with open(\"../../datasets/classifier/pt.jsonl\", \"r\", encoding=\"utf-8\") as f:\n",
    "    pt_neg = [json.loads(line) for line in f]\n",
    "df_pt_neg = pd.DataFrame(pt_neg)\n",
    "df_pt_neg = df_pt_neg.sample(n=n_pos, random_state=42)\n",
    "df_pt_neg['isFood'] = 0\n",
    "\n",
    "# 2️⃣ Carregar EN negativos\n",
    "with open(\"../../datasets/classifier/en.jsonl\", \"r\", encoding=\"utf-8\") as f:\n",
    "    en_neg = [json.loads(line) for line in f]\n",
    "df_en_neg = pd.DataFrame(en_neg)\n",
    "df_en_neg = df_en_neg.sample(n=n_pos, random_state=42)\n",
    "df_en_neg['isFood'] = 0\n",
    "\n",
    "# 3️⃣ Concatenar\n",
    "df_neg_final = pd.concat([df_pt_neg, df_en_neg], ignore_index=True)\n",
    "\n",
    "print(df_neg_final.head())\n",
    "print(f\"✅ Total de negativos balanceados: {len(df_neg_final)}\")\n"
   ],
   "id": "3a22a4d0a77ac2e1",
   "outputs": [
    {
     "name": "stdout",
     "output_type": "stream",
     "text": [
      "                                                text  isFood\n",
      "0  Depois do domínio do imperador Carlos Magno, s...       0\n",
      "1  Quantos católicos sabem explicar o que é a Ima...       0\n",
      "2  A prova do segundo teorema é obtida pela forma...       0\n",
      "3  Descoberta da transformação Frederick Griffith...       0\n",
      "4  Seres humanos e vários animais percebem sons c...       0\n",
      "✅ Total de negativos balanceados: 63348\n"
     ]
    }
   ],
   "execution_count": 11
  },
  {
   "metadata": {
    "ExecuteTime": {
     "end_time": "2025-03-22T12:07:47.240103Z",
     "start_time": "2025-03-22T12:07:47.141132Z"
    }
   },
   "cell_type": "code",
   "source": [
    "# 1️⃣ Unificar positivos + negativos\n",
    "df_binario_final = pd.concat([df_positive_final, df_neg_final], ignore_index=True)\n",
    "\n",
    "# 2️⃣ Shuffle geral\n",
    "df_binario_final = df_binario_final.sample(frac=1, random_state=42).reset_index(drop=True)\n",
    "\n",
    "# 3️⃣ Salvar em Parquet\n",
    "df_binario_final.to_parquet(\"dataset_binario_food_detection.parquet\", index=False)\n",
    "\n",
    "print(f\"✅ Dataset final salvo com {len(df_binario_final)} linhas (balanceado) em Parquet.\")"
   ],
   "id": "956281bd89744e0f",
   "outputs": [
    {
     "name": "stdout",
     "output_type": "stream",
     "text": [
      "✅ Dataset final salvo com 126696 linhas (balanceado) em Parquet.\n"
     ]
    }
   ],
   "execution_count": 13
  }
 ],
 "metadata": {
  "kernelspec": {
   "display_name": "Python 3",
   "language": "python",
   "name": "python3"
  },
  "language_info": {
   "codemirror_mode": {
    "name": "ipython",
    "version": 2
   },
   "file_extension": ".py",
   "mimetype": "text/x-python",
   "name": "python",
   "nbconvert_exporter": "python",
   "pygments_lexer": "ipython2",
   "version": "2.7.6"
  }
 },
 "nbformat": 4,
 "nbformat_minor": 5
}
