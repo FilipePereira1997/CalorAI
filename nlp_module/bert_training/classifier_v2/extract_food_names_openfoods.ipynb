{
 "cells": [
  {
   "cell_type": "code",
   "id": "d8847eeec2ce6dbf",
   "metadata": {
    "ExecuteTime": {
     "end_time": "2025-03-22T11:43:35.127562Z",
     "start_time": "2025-03-22T11:43:35.089291Z"
    }
   },
   "source": [
    "from pymongo import MongoClient\n",
    "import pandas as pd\n",
    "from tqdm import tqdm\n",
    "\n",
    "# Conectar ao MongoDB local\n",
    "client = MongoClient(\"mongodb://localhost:27017/\")\n",
    "db = client.fooddb\n",
    "collection = db.openfoodfacts\n",
    "\n",
    "# Query: países + idioma em português + product_name não nulo\n",
    "query = {\n",
    "    \"$or\": [\n",
    "        {\"countries_tags\": {\"$regex\": \"portugal|brazil\", \"$options\": \"i\"}},\n",
    "        {\"languages_tags\": {\"$regex\": \"pt\", \"$options\": \"i\"}}\n",
    "    ],\n",
    "    \"product_name\": {\"$exists\": True, \"$ne\": \"\"}\n",
    "}"
   ],
   "outputs": [],
   "execution_count": 5
  },
  {
   "metadata": {
    "ExecuteTime": {
     "end_time": "2025-03-22T11:48:31.634437Z",
     "start_time": "2025-03-22T11:43:36.636690Z"
    }
   },
   "cell_type": "code",
   "source": [
    "# Buscar documentos (limitar campos)\n",
    "cursor = collection.find(query, {\"product_name\": 1})\n",
    "\n",
    "# Converter cursor para lista com tqdm (barra de progresso)\n",
    "docs = []\n",
    "for doc in tqdm(cursor, desc=\"🔄 Convertendo documentos\"):\n",
    "    docs.append(doc)\n",
    "\n",
    "# Converter para DataFrame\n",
    "df_filtered = pd.DataFrame(docs)"
   ],
   "id": "60e21965dc1b255a",
   "outputs": [
    {
     "name": "stderr",
     "output_type": "stream",
     "text": [
      "🔄 Convertendo documentos: 35471it [04:54, 120.26it/s]\n"
     ]
    }
   ],
   "execution_count": 6
  },
  {
   "metadata": {
    "ExecuteTime": {
     "end_time": "2025-03-22T11:49:36.339168Z",
     "start_time": "2025-03-22T11:49:36.098242Z"
    }
   },
   "cell_type": "code",
   "source": [
    "# Remover duplicados e entradas inválidas\n",
    "df_filtered = df_filtered.drop_duplicates(subset=\"product_name\")\n",
    "df_filtered = df_filtered[df_filtered['product_name'].str.strip() != \"\"]\n",
    "\n",
    "# Manter apenas o product_name\n",
    "df_filtered = df_filtered[[\"product_name\"]]\n",
    "\n",
    "# Exportar para parquet\n",
    "df_filtered.to_parquet(\"produtos_openfoodfacts_pt_br.parquet\", index=False)\n",
    "print(f\"💾 Exportado {len(df_filtered)} produtos para produtos_openfoodfacts_pt_br.parquet\")"
   ],
   "id": "8617bb62bfc9b807",
   "outputs": [
    {
     "name": "stdout",
     "output_type": "stream",
     "text": [
      "💾 Exportado 29966 produtos para produtos_openfoodfacts_pt_br.parquet\n"
     ]
    }
   ],
   "execution_count": 7
  }
 ],
 "metadata": {
  "kernelspec": {
   "display_name": "Python 3",
   "language": "python",
   "name": "python3"
  },
  "language_info": {
   "codemirror_mode": {
    "name": "ipython",
    "version": 2
   },
   "file_extension": ".py",
   "mimetype": "text/x-python",
   "name": "python",
   "nbconvert_exporter": "python",
   "pygments_lexer": "ipython2",
   "version": "2.7.6"
  }
 },
 "nbformat": 4,
 "nbformat_minor": 5
}
