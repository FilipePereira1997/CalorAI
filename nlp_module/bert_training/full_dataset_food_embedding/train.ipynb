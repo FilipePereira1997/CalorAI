{
 "cells": [
  {
   "cell_type": "code",
   "id": "initial_id",
   "metadata": {
    "collapsed": true,
    "ExecuteTime": {
     "end_time": "2025-03-27T00:35:26.693962Z",
     "start_time": "2025-03-27T00:09:25.475924Z"
    }
   },
   "source": [
    "import pandas as pd\n",
    "import numpy as np\n",
    "import torch\n",
    "from sentence_transformers import SentenceTransformer\n",
    "import faiss\n",
    "\n",
    "# --------------------------------------------------\n",
    "# 1) Carregar CSV de alimentos\n",
    "# --------------------------------------------------\n",
    "# Exemplo CSV:\n",
    "# FOOD_NAME,FOOD_INGREDIENTS,FOOD_SERVING_SIZE,ENERGY (KCAL),PROTEIN (G),TOTAL LIPID (FAT) (G),CARBOHYDRATE,LANGUAGE\n",
    "df = pd.read_parquet(\"../../datasets/fsda/fsda_insa_dataset_final.parquet\")\n",
    "\n",
    "# Para cada linha, vamos criar uma string que combine FOOD_NAME + FOOD_INGREDIENTS.\n",
    "# (Assim o embedding captura melhor o contexto)\n",
    "food_texts = (\n",
    "    df[\"FOOD_NAME\"].fillna(\"\").astype(str) + \" \" +\n",
    "    df[\"FOOD_INGREDIENTS\"].fillna(\"\").astype(str)\n",
    ").tolist()\n",
    "\n",
    "print(f\"Total de alimentos no CSV: {len(food_texts)}\")\n",
    "\n",
    "# --------------------------------------------------\n",
    "# 2) Criar modelo Sentence Transformers\n",
    "# --------------------------------------------------\n",
    "model_name = \"sentence-transformers/xlm-r-distilroberta-base-paraphrase-v1\"\n",
    "model = SentenceTransformer(model_name)\n",
    "\n",
    "# --------------------------------------------------\n",
    "# 3) Gerar embeddings para todos os alimentos\n",
    "# --------------------------------------------------\n",
    "# Saída: array NumPy (N x d), onde N é o # de alimentos e d é a dimensão do embedding\n",
    "all_embeddings = model.encode(food_texts, convert_to_numpy=True, show_progress_bar=True)\n",
    "\n",
    "# É recomendável normalizar os vetores se formos usar Faiss (cosine sim / IP)\n",
    "# Faiss costuma trabalhar com \"dot product\" ou \"L2 distance\", então para simular a\n",
    "# similaridade de cosseno, normalizamos cada vetor para norma=1\n",
    "norms = np.linalg.norm(all_embeddings, axis=1, keepdims=True)\n",
    "all_embeddings = all_embeddings / norms\n",
    "\n",
    "print(\"Shape dos embeddings:\", all_embeddings.shape)\n",
    "\n",
    "# --------------------------------------------------\n",
    "# 4) Construir índice Faiss\n",
    "# --------------------------------------------------\n",
    "d = all_embeddings.shape[1]  # dimensão dos embeddings\n",
    "# Vamos usar IndexFlatIP (product = dot product = similar a cosseno se normalizado)\n",
    "index = faiss.IndexFlatIP(d)\n",
    "\n",
    "# Adicionar embeddings ao índice\n",
    "index.add(all_embeddings.astype(np.float32))\n",
    "\n",
    "print(f\"Index size: {index.ntotal} embeddings\")\n",
    "\n",
    "# --------------------------------------------------\n",
    "# 5) Função de busca\n",
    "# --------------------------------------------------\n",
    "def search_food(query_text, top_k=5):\n",
    "    \"\"\"\n",
    "    Gera o embedding de 'query_text', faz busca no índice Faiss e\n",
    "    retorna as top_k entradas mais semelhantes do CSV.\n",
    "    \"\"\"\n",
    "    # 5.1) Embedding da consulta\n",
    "    query_emb = model.encode(query_text, convert_to_numpy=True)\n",
    "\n",
    "    # Normalizar\n",
    "    norm_q = np.linalg.norm(query_emb)\n",
    "    query_emb = (query_emb / norm_q).astype(np.float32).reshape(1, -1)  # shape (1, d)\n",
    "\n",
    "    # 5.2) Consultar no índice\n",
    "    # distances => shape (1, top_k)\n",
    "    # indices => shape (1, top_k)\n",
    "    distances, indices = index.search(query_emb, top_k)\n",
    "\n",
    "    results = []\n",
    "    for i in range(top_k):\n",
    "        row_idx = indices[0][i]\n",
    "        score = distances[0][i]  # dot product (similar a cos sim)\n",
    "\n",
    "        # Recupera infos do df\n",
    "        food_name = df[\"FOOD_NAME\"].iloc[row_idx]\n",
    "        ingredients = df[\"FOOD_INGREDIENTS\"].iloc[row_idx]\n",
    "        kcal = df[\"ENERGY (KCAL)\"].iloc[row_idx]\n",
    "\n",
    "        results.append({\n",
    "            \"rank\": i+1,\n",
    "            \"score\": float(score),\n",
    "            \"food_name\": food_name,\n",
    "            \"ingredients\": ingredients,\n",
    "            \"kcal\": kcal\n",
    "        })\n",
    "    return results\n",
    "\n",
    "# --------------------------------------------------\n",
    "# 6) Exemplo de uso\n",
    "# --------------------------------------------------\n",
    "user_input = \"Posso comer beef jerky se já consumi 1500 kcal hoje?\"\n",
    "\n",
    "# Abordagem simples: usar a frase toda.\n",
    "# Se quiser, poderia extrair a substring “beef jerky” de outra forma (NER ou heurísticas).\n",
    "results = search_food(user_input, top_k=5)\n",
    "\n",
    "print(\"Resultados da busca:\")\n",
    "for r in results:\n",
    "    print(f\"{r['rank']}) score={r['score']:.3f}  name={r['food_name']}  kcal={r['kcal']}\")\n",
    "    # ou mostrar 'ingredients', etc.\n",
    "\n",
    "# Exemplo de checagem do top-1\n",
    "best = results[0]\n",
    "if best[\"score\"] < 0.3:\n",
    "    print(\"Não encontrei nada relevante! Score muito baixo.\")\n",
    "else:\n",
    "    print(f\"Alimento top-1: {best['food_name']}, calorias: {best['kcal']}\")\n"
   ],
   "outputs": [
    {
     "name": "stdout",
     "output_type": "stream",
     "text": [
      "Total de alimentos no CSV: 457782\n"
     ]
    },
    {
     "name": "stderr",
     "output_type": "stream",
     "text": [
      "Batches: 100%|██████████| 14306/14306 [25:43<00:00,  9.27it/s]\n"
     ]
    },
    {
     "name": "stdout",
     "output_type": "stream",
     "text": [
      "Shape dos embeddings: (457782, 768)\n",
      "Index size: 457782 embeddings\n",
      "Resultados da busca:\n",
      "1) score=0.451  name=Bife de vaca (valor médio de acém alcatra e lombo) frito com manteiga  kcal=201.0\n",
      "2) score=0.443  name=Bife de vaca (valor médio de acém alcatra e lombo) frito sem molho  kcal=183.0\n",
      "3) score=0.420  name=Bife de vaca (valor médio de acém alcatra e lombo) cru  kcal=122.0\n",
      "4) score=0.414  name=Bife de vaca (valor médio de acém alcatra e lombo) grelhado  kcal=163.0\n",
      "5) score=0.397  name=Bife de cavalo alcatra frita com manteiga  kcal=177.0\n",
      "Alimento top-1: Bife de vaca (valor médio de acém alcatra e lombo) frito com manteiga, calorias: 201.0\n"
     ]
    }
   ],
   "execution_count": 2
  },
  {
   "metadata": {
    "ExecuteTime": {
     "end_time": "2025-03-27T00:35:48.578867Z",
     "start_time": "2025-03-27T00:35:45.515893Z"
    }
   },
   "cell_type": "code",
   "source": [
    "np.save(\"food_embeddings.npy\", all_embeddings)\n",
    "faiss.write_index(index, \"food_index.faiss\")\n",
    "print(\"Embeddings e índice FAISS guardados com sucesso.\")"
   ],
   "id": "9aaaa489fa3870f2",
   "outputs": [
    {
     "name": "stdout",
     "output_type": "stream",
     "text": [
      "Embeddings e índice FAISS guardados com sucesso.\n"
     ]
    }
   ],
   "execution_count": 5
  }
 ],
 "metadata": {
  "kernelspec": {
   "display_name": "Python 3",
   "language": "python",
   "name": "python3"
  },
  "language_info": {
   "codemirror_mode": {
    "name": "ipython",
    "version": 2
   },
   "file_extension": ".py",
   "mimetype": "text/x-python",
   "name": "python",
   "nbconvert_exporter": "python",
   "pygments_lexer": "ipython2",
   "version": "2.7.6"
  }
 },
 "nbformat": 4,
 "nbformat_minor": 5
}
