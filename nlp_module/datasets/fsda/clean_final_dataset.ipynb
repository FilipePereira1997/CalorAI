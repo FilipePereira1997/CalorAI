{
 "cells": [
  {
   "cell_type": "code",
   "id": "2225e5cc3639b70d",
   "metadata": {
    "ExecuteTime": {
     "end_time": "2025-03-22T00:27:34.051934Z",
     "start_time": "2025-03-22T00:27:31.416682Z"
    }
   },
   "source": [
    "import pandas as pd\n",
    "from sklearn.preprocessing import MinMaxScaler\n",
    "\n",
    "# 1. Carregar datasets\n",
    "df = pd.read_parquet(\"fsda_insa_dataset_final.parquet\")\n",
    "\n",
    "# 2. Remover linhas com nulos nas colunas essenciais\n",
    "df = df.dropna(subset=[\n",
    "    'FOOD_NAME',\n",
    "    'FOOD_INGREDIENTS',\n",
    "    'ENERGY (KCAL)',\n",
    "    'PROTEIN (G)',\n",
    "    'TOTAL LIPID (FAT) (G)',\n",
    "    'CARBOHYDRATE, BY DIFFERENCE (G)'\n",
    "])\n",
    "\n",
    "# 3. Minúsculas e limpeza leve\n",
    "df['FOOD_NAME'] = df['FOOD_NAME'].str.lower()\n",
    "df['FOOD_INGREDIENTS'] = df['FOOD_INGREDIENTS'].str.lower().str.strip()\n"
   ],
   "outputs": [],
   "execution_count": 1
  },
  {
   "metadata": {
    "ExecuteTime": {
     "end_time": "2025-03-22T00:27:34.770572Z",
     "start_time": "2025-03-22T00:27:34.059157Z"
    }
   },
   "cell_type": "code",
   "source": [
    "# 4. Normalizar as macros (0-1) com Min-Max Scaling\n",
    "scaler = MinMaxScaler()\n",
    "df[['ENERGY (KCAL)', 'PROTEIN (G)', 'TOTAL LIPID (FAT) (G)', 'CARBOHYDRATE, BY DIFFERENCE (G)']] = scaler.fit_transform(\n",
    "    df[['ENERGY (KCAL)', 'PROTEIN (G)', 'TOTAL LIPID (FAT) (G)', 'CARBOHYDRATE, BY DIFFERENCE (G)']]\n",
    ")\n",
    "\n",
    "# 4.1 Guardar o scaler para uso futuro\n",
    "import joblib\n",
    "joblib.dump(scaler, 'scaler.pkl')\n",
    "\n",
    "# 5. Salvar datasets pronto para treino\n",
    "df.to_parquet('fsda_insa_dataset_final_processed.parquet')\n",
    "print(\"✅ Dataset pronto e limpo!\")\n"
   ],
   "id": "f1a9189a62fb7d7c",
   "outputs": [
    {
     "name": "stdout",
     "output_type": "stream",
     "text": [
      "✅ Dataset pronto e limpo!\n"
     ]
    }
   ],
   "execution_count": 2
  }
 ],
 "metadata": {
  "kernelspec": {
   "display_name": "Python 3",
   "language": "python",
   "name": "python3"
  },
  "language_info": {
   "codemirror_mode": {
    "name": "ipython",
    "version": 2
   },
   "file_extension": ".py",
   "mimetype": "text/x-python",
   "name": "python",
   "nbconvert_exporter": "python",
   "pygments_lexer": "ipython2",
   "version": "2.7.6"
  }
 },
 "nbformat": 4,
 "nbformat_minor": 5
}
