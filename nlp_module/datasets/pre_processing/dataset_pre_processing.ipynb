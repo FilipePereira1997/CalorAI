{
 "cells": [
  {
   "cell_type": "code",
   "id": "initial_id",
   "metadata": {
    "collapsed": true,
    "ExecuteTime": {
     "end_time": "2025-03-19T23:10:42.987346Z",
     "start_time": "2025-03-19T23:10:42.901219Z"
    }
   },
   "source": [
    "import pandas as pd\n",
    "import glob\n",
    "\n",
    "# List of file paths for the CSV datasets\n",
    "file_paths = glob.glob(\"../data/who_dataset/*.csv\")  # Replace with the actual folder path\n",
    "\n",
    "# Load and concatenate the datasets into a single DataFrame\n",
    "dataframes = [pd.read_csv(file) for file in file_paths]\n",
    "df = pd.concat(dataframes, ignore_index=True)\n",
    "\n",
    "# Display the first few rows to verify the merged datasets\n",
    "print(df.head())\n",
    "\n",
    "# Save the unified datasets to a new CSV file (optional)\n",
    "df.to_csv(\"../data/who_dataset/merged_dataset.csv\", index=False)"
   ],
   "outputs": [
    {
     "name": "stdout",
     "output_type": "stream",
     "text": [
      "                                    meal_description       carb    protein  \\\n",
      "0  For my midday meal, I had a delightful 84g ser...   9.567600   2.427600   \n",
      "1  For a quick snack, I had 45g of wheat crackers...  82.283000  10.423000   \n",
      "2  For my snack, I indulged in 132g of delicious ...  37.224000   5.016000   \n",
      "3  At dinner, I served myself 46.25g of white ric...  37.411625   3.473375   \n",
      "4  I savored 15g of mustard during dinner, which ...   0.795000   0.637500   \n",
      "\n",
      "         fat   energy  \n",
      "0   0.285600   42.840  \n",
      "1  19.187000  540.850  \n",
      "2  14.520000  285.120  \n",
      "3   0.476375  172.975  \n",
      "4   0.507000   10.350  \n"
     ]
    }
   ],
   "execution_count": 7
  },
  {
   "metadata": {
    "ExecuteTime": {
     "end_time": "2025-03-19T23:10:53.950197Z",
     "start_time": "2025-03-19T23:10:53.908932Z"
    }
   },
   "cell_type": "code",
   "source": [
    "from sklearn.preprocessing import MinMaxScaler\n",
    "\n",
    "dataset_name = \"merged_dataset.csv\"\n",
    "\n",
    "df = pd.read_csv(\"../data/who_dataset/\" + dataset_name)\n",
    "\n",
    "df_pt = pd.read_csv(\"../data/insa_dataset/processed_nutri_data.csv\")\n",
    "\n",
    "df = pd.concat([df, df_pt], ignore_index=True)\n"
   ],
   "id": "b5af4667567ccb2b",
   "outputs": [],
   "execution_count": 8
  },
  {
   "metadata": {
    "ExecuteTime": {
     "end_time": "2025-03-19T23:11:39.118589Z",
     "start_time": "2025-03-19T23:11:18.557811Z"
    }
   },
   "cell_type": "code",
   "source": [
    "from word2number import w2n\n",
    "import re\n",
    "\n",
    "def convert_fractions(text):\n",
    "    fraction_map = {\n",
    "        'half': 0.5,\n",
    "        'quarter': 0.25,\n",
    "        'third': 1/3,\n",
    "        'three quarters': 0.75,\n",
    "        'two thirds': 2/3\n",
    "    }\n",
    "\n",
    "    # Trata \"one and a half\", etc.\n",
    "    pattern = r'(\\w+)\\s+and\\s+a?\\s*(half|quarter|third|three quarters|two thirds)'\n",
    "    matches = re.finditer(pattern, text)\n",
    "    for match in matches:\n",
    "        try:\n",
    "            whole = w2n.word_to_num(match.group(1))\n",
    "            frac = fraction_map.get(match.group(2))\n",
    "            if frac:\n",
    "                total = whole + frac\n",
    "                text = text.replace(match.group(0), str(total))\n",
    "        except ValueError:\n",
    "            continue  # Se não for um número válido, ignora\n",
    "\n",
    "    # Trata \"half\", \"quarter\" isolados\n",
    "    for word, value in fraction_map.items():\n",
    "        text = re.sub(rf'\\b{word}\\b', str(value), text)\n",
    "\n",
    "    return text\n",
    "\n",
    "def convert_special_terms(text):\n",
    "    special_numbers = {\n",
    "        \"single\": 1,\n",
    "        \"double\": 2,\n",
    "        \"triple\": 3,\n",
    "        \"quadruple\": 4,\n",
    "        \"quintuple\": 5,\n",
    "        \"sextuple\": 6\n",
    "    }\n",
    "\n",
    "    for word, num in special_numbers.items():\n",
    "        text = re.sub(rf'\\b{word}\\b', str(num), text)\n",
    "    return text\n",
    "\n",
    "def convert_numbers(text):\n",
    "    text = convert_fractions(text)\n",
    "    text = convert_special_terms(text)\n",
    "\n",
    "    words = text.split()\n",
    "    converted = []\n",
    "    for word in words:\n",
    "        try:\n",
    "            if re.match(r'^[a-zA-Z\\-]+$', word):  # tenta apenas em palavras tipo \"two\", \"thirty-three\"\n",
    "                num = w2n.word_to_num(word)\n",
    "                converted.append(str(num))\n",
    "            else:\n",
    "                converted.append(word)\n",
    "        except ValueError:\n",
    "            converted.append(word)\n",
    "    return ' '.join(converted)\n",
    "\n",
    "def clean_meal_description(text):\n",
    "    text = text.lower()\n",
    "    text = convert_numbers(text)\n",
    "    text = re.sub(r'[^\\w\\s/]', '', text)\n",
    "    text = re.sub(r'\\s+', ' ', text)\n",
    "    return text.strip()\n",
    "\n",
    "def normalize_units(text):\n",
    "    text = re.sub(r'\\bgrams?\\b', 'g', text)\n",
    "    text = re.sub(r'\\bkilograms?\\b', 'kg', text)\n",
    "    text = re.sub(r'\\bmilliliters?\\b', 'ml', text)\n",
    "    text = re.sub(r'\\bliters?\\b', 'l', text)\n",
    "    text = re.sub(r'\\btablespoons?\\b', 'tbsp', text)\n",
    "    text = re.sub(r'\\bteaspoons?\\b', 'tsp', text)\n",
    "    return text\n",
    "\n",
    "def convert_inline_fractions(text):\n",
    "    # Ex.: \"1/2\" -> \"0.5\"\n",
    "    text = re.sub(r'\\b(\\d+)/(\\d+)\\b', lambda m: str(round(int(m.group(1)) / int(m.group(2)), 2)), text)\n",
    "    return text\n",
    "\n",
    "def remove_noise(text):\n",
    "    # Padrões regulares\n",
    "    noise_patterns = [\n",
    "        # Frases temporais e contextuais\n",
    "        r'\\b(for|at|during|in the|my)\\s+(breakfast|lunch|dinner|snack|afternoon|evening|morning|meal|day)\\b',\n",
    "        r'\\bthis\\s+(morning|evening|afternoon|snack|day|midday)\\b',\n",
    "        r'\\btoday\\b',\n",
    "        r'\\bto start my (day|morning)\\b',\n",
    "        r'\\bi kicked off my day\\b',\n",
    "        r'\\bi\\s+(had|enjoyed|savored|prepared|nibbled|relished|consumed|started|opted for|treated myself|made)\\b',\n",
    "\n",
    "        # Ligações e descrições desnecessárias\n",
    "        r'\\b(a touch of|a sprinkle of|combined with|alongside|enhanced with|featuring|designed to|just a|for a|for my)\\b',\n",
    "        r'\\bperfect for\\b',\n",
    "        r'\\bseasoned with\\b',\n",
    "        r'\\btopped with\\b',\n",
    "        r'\\bto bring out\\b',\n",
    "        r'\\bto enhance\\b',\n",
    "        r'\\bwhich was\\b',\n",
    "        r'\\bthat was\\b',\n",
    "    ]\n",
    "\n",
    "    # Palavras soltas adicionais para remover\n",
    "    noise_words = [\n",
    "        \"delightful\", \"quick\", \"snack\", \"indulged\", \"simple\", \"hearty\",\n",
    "        \"tonights\", \"dinner\", \"light\", \"conforting\", \"refreshing\",\n",
    "        \"flavorful\", \"tasty\", \"savory\", \"sweet\", \"nutritious\", \"perfect\", \"midday\",\"for\",\"served\",\"myself\",\"day\",\"morning\",\"evening\",\"afternoon\",\"snack\",\"meal\",\"lunch\",\"breakfast\",\"dinner\",\"opted\",\"prepared\",\"enjoyed\",\"savored\",\"nibbled\",\"relished\",\"consumed\",\"started\",\"treated\",\"made\",\"kicked\",\"off\",\"start\",\"today\",\"during\",\"in\",\"the\",\"at\",\"to\",\"with\",\"a\",\"of\",\"and\",\"or\",\"was\",\"which\",\"that\",\"just\",\"sprinkle\",\"combined\",\"alongside\",\"enhanced\",\"featuring\",\"designed\",\"touch\",\"topped\",\"bring\",\"out\",\"enhance\",\"perfect\",\"seasoned\",\"topped\",\"which\",\"that\",\"was\",\"a\",\"for\",\"my\",\"to\",\"start\",\"my\",\"day\",\"i\",\"kicked\",\"off\",\"my\",\"day\",\"i\",\"had\",\"enjoyed\",\"savored\",\"prepared\",\"nibbled\",\"relished\",\"consumed\",\"started\",\"opted\",\"for\",\"treated\",\"myself\",\"made\",\"today\",\"to\",\"start\",\"my\",\"day\",\"this\",\"morning\",\"evening\",\"afternoon\",\"snack\",\"day\",\"to\",\"start\",\"my\",\"day\",\"i\",\"kicked\",\"off\",\"my\",\"day\",\"i\",\"had\",\"enjoyed\",\"savored\",\"prepared\",\"nibbled\",\"relished\",\"consumed\",\"started\",\"opted\",\"for\",\"treated\",\"myself\",\"made\",\"today\",\"to\",\"start\",\"my\",\"day\",\"this\",\"morning\",\"evening\",\"afternoon\",\"snack\",\"day\",\"to\",\"start\",\"my\",\"day\",\"i\",\"kicked\",\"off\",\"my\",\"day\",\"i\",\"had\",\"enjoyed\",\"savored\",\"prepared\",\"nibbled\",\"relished\",\"consumed\",\"started\",\"opted\",\"for\",\"treated\",\"myself\",\"made\",\"today\",\"to\",\"start\",\"my\",\"day\",\"this\",\"morning\",\"evening\",\"afternoon\",\"snack\",\"day\",\"to\",\"start\",\"my\",\"day\",\"i\",\"kicked\",\"off\",\"my\",\"day\",\"i\",\"had\",\"enjoyed\",\"savored\",\"prepared\",\"nibbled\",\"relished\",\"consumed\",\"started\",\"opted\",\"for\",\"treated\",\"myself\",\"made\",\"today\",\"to\",\"start\",\"my\",\"day\",\"this\",\"morning\",\"evening\",\"afternoon\",\"snack\",\"day\",\"to\",\"start\",\"my\",\"day\",\"i\",\"kicked\",\"off\",\"my\",\"day\",\"i\",\"had\", \"small\", \"portion\", \"comforting\", \"delicious\",\"included\",\"time\", \"on\", \"featured\", \"serving\",\"munched\",\n",
    "        \"consisted\",\"deliciously\", \"kick\",\"off\",\"my\",\"day\",\"i\",\"had\",\"enjoyed\",\"savored\",\"prepared\",\"nibbled\",\"relished\",\"consumed\",\"started\",\"opted\",\"for\",\"treated\",\"myself\",\"made\",\"today\",\"to\",\"start\",\"my\",\"day\",\"this\",\"morning\",\"evening\",\"afternoon\",\"snack\",\"day\",\"to\",\"start\",\"my\",\"day\",\"i\",\"kicked\",\"off\",\"my\",\"day\",\"i\",\"had\",\"enjoyed\",\"savored\",\"prepared\",\"nibbled\",\"relished\",\"consumed\",\"started\",\"opted\",\"for\",\"treated\",\"myself\",\"made\",\"today\",\"to\",\"start\",\"my\",\"day\",\"this\",\"morning\",\"evening\",\"afternoon\",\"snack\",\"day\",\"to\",\"start\",\"my\",\"day\",\"i\",\"kicked\",\"off\",\"my\",\"day\",\"i\",\"had\",\"enjoyed\",\"savored\",\"prepared\",\"nibbled\",\"relished\",\"consumed\",\"started\",\"opted\",\"for\",\"treated\",\"myself\",\"made\",\"today\",\"to\",\"start\",\"my\",\"day\",\"this\",\"morning\",\"evening\",\"afternoon\",\"snack\",\"day\",\"to\",\"start\",\"my\",\"day\",\"i\",\"kicked\",\"off\",\"my\",\"day\",\"i\",\"had\",\"enjoyed\",\"savored\",\"prepared\",\"nibbled\",\"relished\",\"consumed\",\"started\",\"opted\",\"for\",\"treated\",\"myself\",\"made\",\"today\",\"to\",\"start\",\"my\",\"day\",\"this\",\"morning\",\"evening\",\"afternoon\",\"snack\",\"day\",\"to\",\"start\",\"my\",\"day\",\"i\",\"kicked\",\"off\",\"my\",\"day\",\"i\",\"had\",\"enjoyed\",\"savored\",\"prepared\",\"nibbled\",\"relished\",\"consumed\",\"started\",\"opted\",\"for\",\"treated\",\"myself\",\"made\",\"today\",\"to\",\"start\",\"my\",\"day\",\"this\",\"morning\",\"evening\",\"afternoon\",\"snack\",\"day\",\"to\",\"start\",\"my\",\"day\",\"i\",\"kicked\",\"off\",\"my\",\"day\",\"i\",\"had\",\"enjoyed\",\"savored\",\"prepared\",\"nibbled\",\"relished\",\"consumed\",\"started\",\"opted\",\"for\",\"treated\",\"myself\",\"made\",\"today\",\"to\",\"start\",\"my\",\"day\",\"this\",\"morning\",\"evening\",\"afternoon\",\"snack\",\"day\",\"to\",\"start\",\"my\",\"day\",\"grabbed\",\"a\",\"bite\",\"to\",\"eat\",\"i\",\"had\",\"enjoyed\",\"savored\",\"prepared\",\"nibbled\",\"relished\",\"consumed\",\"started\",\"opted\",\"for\",\"treated\",\"myself\",\"made\",\"today\",\"to\",\"start\",\"my\",\"day\",\"this\",\"morning\",\"evening\",\"afternoon\",\"snack\",\"day\",\"to\",\"start\",\"my\",\"day\",\"i\",\"kicked\",\"off\",\"my\",\"day\",\"i\",\"had\",\"enjoyed\",\"savored\",\"prepared\",\"nibbled\",\"relished\",\"consumed\",\"started\",\"opted\",\"for\",\"treated\",\"myself\",\"made\",\"today\",\"to\",\"start\",\"my\",\"day\",\"this\",\"morning\",\"evening\",\"afternoon\",\"snack\",\"day\",\"to\",\"start\",\"my\",\"day\",\"i\",\"kicked\",\"off\",\"my\",\"day\",\"i\",\"had\",\"enjoyed\",\"savored\",\"prepared\",\"nibbled\",\"relished\",\"consumed\",\"started\",\"opted\",\"for\",\"treated\",\"myself\",\"made\",\"today\",\"to\",\"start\",\"my\",\"day\",\"this\",\"morning\",\"evening\",\"afternoon\",\"snack\",\"day\",\"to\",\"start\",\"my\",\"day\",\"i\",\"kicked\",\"off\",\"my\",\"day\",\"i\",\"had\",\"enjoyed\",\"savored\",\"prepared\",\"nibbled\",\"relished\",\"consumed\",\"started\",\"opted\",\"for\",\"treated\",\"myself\",\"made\",\"today\",\"to\",\"start\",\"my\",\"day\",\"this\",\"morning\",\"evening\",\"afternoon\",\"snack\",\"day\",\"to\",\"start\",\"my\",\"day\",\"i\",\"kicked\",\"off\",\"my\",\"day\",\"i\",\"had\",\"enjoyed\",\"savored\",\"prepared\",\"nibbled\",\"relished\",\"consumed\",\"started\",\"opted\",\"for\",\"treated\",\"myself\",\"made\",\"today\",\"to\",\"start\",\"my\",\"day\",\"this\",\"morning\",\"evening\",\"afternoon\",\"snack\",\"day\",\"to\",\"start\",\"my\",\"day\",\"i\",\"kicked\",\"off\",\"my\",\"day\",\"i\",\"had\",\"enjoyed\",\"savored\",\"prepared\",\"nibbled\",\"relished\",\"consumed\",\"started\",\"opted\",\"for\",\"treated\",\"myself\",\"made\",\"today\",\"to\",\"start\",\"my\",\"day\",\"this\",\"morning\",\"evening\",\"afternoon\",\"snack\",\"day\",\"to\",\"start\", \"warm\",\"tonight\", \"satisfying\",\"added\",\"wrapped up\", \"s\", \"cozy\", \"rounded\", \"midmorning\", \"unique\", \"snacked\", \"took\", \"little\", \"pickmeup\", \"dose\", \"hint\", \"boost\", \"as\", \"smooth\", \"consisting\", \"wholesome\", \"creamy\",\"colorful\", \"spread\", \"healthy\", \"sure\", \"an\", \"fresh\", \"freshly\", \"interesting\", \"tide\", \"me\", \"over\", \"while\", \"snacking\", \"vibrant\", \"provided\", \"whole\", \"enjoying\", \"squezzed\", \"reached\", \"generous\", \"portion\", \"satisfying\",\"sipped\", \"casual\", \"break\", \"cool\", \"decided\", \"combination\", \"freshly\", \"made\", \"chewy\", \"crunchy\", \"crispy\", \"crunchy\", \"drank\", \"brunch\", \"lunchtime\", \"succulent\", \"generous\", \"juicy\", \"fulfilling\",\"quite\",\n",
    "        \"rich\", \"thirstquenching\", \"routine\"\n",
    "    ]\n",
    "\n",
    "    # Aplica regex nos padrões complexos\n",
    "    for pattern in noise_patterns:\n",
    "        text = re.sub(pattern, '', text)\n",
    "\n",
    "    # Remove palavras isoladas\n",
    "    for word in noise_words:\n",
    "        text = re.sub(rf'\\b{word}\\b', '', text)\n",
    "\n",
    "    # Limpeza final de espaços extras\n",
    "    text = re.sub(r'\\s+', ' ', text)\n",
    "    return text.strip()\n",
    "\n",
    "def add_region_tag(text, region=\"usa\"):\n",
    "    if(text.find(\"region\") != -1):\n",
    "        return text\n",
    "    return f\"region: {region} {text}\"\n",
    "\n",
    "def full_clean_pipeline(text):\n",
    "    text = text.lower()\n",
    "    text = convert_numbers(text)  # a função que você já tem para \"two\" -> \"2\" etc.\n",
    "    text = convert_inline_fractions(text)\n",
    "    text = normalize_units(text)\n",
    "    text = remove_noise(text)\n",
    "    text = add_region_tag(text, region=\"usa\")\n",
    "    text = re.sub(r'[^\\w\\s/]', '', text)  # remove pontuação, mantendo '/' se necessário\n",
    "    text = re.sub(r'\\s+', ' ', text)\n",
    "    return text.strip()\n",
    "\n",
    "\n",
    "df[\"meal_description\"] = df[\"meal_description\"].apply(full_clean_pipeline)\n"
   ],
   "id": "27743926f610d6c2",
   "outputs": [],
   "execution_count": 9
  },
  {
   "metadata": {
    "ExecuteTime": {
     "end_time": "2025-03-19T23:11:45.294310Z",
     "start_time": "2025-03-19T23:11:44.972685Z"
    }
   },
   "cell_type": "code",
   "source": [
    "import matplotlib.pyplot as plt\n",
    "\n",
    "for col in [\"carb\", \"protein\", \"fat\", \"energy\"]:\n",
    "    plt.figure()\n",
    "    plt.boxplot(df[col])\n",
    "    plt.title(f\"Boxplot of {col}\")\n",
    "    plt.ylabel(col)\n",
    "    plt.show()\n",
    "\n",
    "def detect_outliers_iqr(df, column):\n",
    "    Q1 = df[column].quantile(0.25)\n",
    "    Q3 = df[column].quantile(0.75)\n",
    "    IQR = Q3 - Q1\n",
    "    lower_bound = Q1 - 1.5 * IQR\n",
    "    upper_bound = Q3 + 1.5 * IQR\n",
    "    return df[(df[column] < lower_bound) | (df[column] > upper_bound)]\n",
    "\n",
    "# Exemplo para carbs\n",
    "outliers_carb = detect_outliers_iqr(df, \"carb\")\n",
    "outliers_protein = detect_outliers_iqr(df, \"protein\")\n",
    "outliers_fat = detect_outliers_iqr(df, \"fat\")\n",
    "outliers_energy = detect_outliers_iqr(df, \"energy\")\n",
    "\n",
    "print(f\"Outliers in 'carb': {len(outliers_carb)}\")\n",
    "print(f\"Outliers in 'protein': {len(outliers_protein)}\")\n",
    "print(f\"Outliers in 'fat': {len(outliers_fat)}\")\n",
    "print(f\"Outliers in 'energy': {len(outliers_energy)}\")"
   ],
   "id": "b1ad71a9378c0a4c",
   "outputs": [
    {
     "data": {
      "text/plain": [
       "<Figure size 640x480 with 1 Axes>"
      ],
      "image/png": "[encoded data removed]"
     },
     "metadata": {},
     "output_type": "display_data"
    },
    {
     "data": {
      "text/plain": [
       "<Figure size 640x480 with 1 Axes>"
      ],
      "image/png": "[encoded data removed]"
     },
     "metadata": {},
     "output_type": "display_data"
    },
    {
     "data": {
      "text/plain": [
       "<Figure size 640x480 with 1 Axes>"
      ],
      "image/png": "[encoded data removed]"
     },
     "metadata": {},
     "output_type": "display_data"
    },
    {
     "data": {
      "text/plain": [
       "<Figure size 640x480 with 1 Axes>"
      ],
      "image/png": "[encoded data removed]"
     },
     "metadata": {},
     "output_type": "display_data"
    },
    {
     "name": "stdout",
     "output_type": "stream",
     "text": [
      "Outliers in 'carb': 350\n",
      "Outliers in 'protein': 365\n",
      "Outliers in 'fat': 444\n",
      "Outliers in 'energy': 405\n"
     ]
    }
   ],
   "execution_count": 10
  },
  {
   "metadata": {
    "ExecuteTime": {
     "end_time": "2025-03-19T23:12:01.769127Z",
     "start_time": "2025-03-19T23:12:01.752365Z"
    }
   },
   "cell_type": "code",
   "source": [
    "def remove_outliers_iqr(df, columns):\n",
    "    df_clean = df.copy()\n",
    "    for col in columns:\n",
    "        Q1 = df_clean[col].quantile(0.25)\n",
    "        Q3 = df_clean[col].quantile(0.75)\n",
    "        IQR = Q3 - Q1\n",
    "        lower_bound = Q1 - 1.5 * IQR\n",
    "        upper_bound = Q3 + 1.5 * IQR\n",
    "        df_clean = df_clean[(df_clean[col] >= lower_bound) & (df_clean[col] <= upper_bound)]\n",
    "    return df_clean\n",
    "\n",
    "cols = [\"carb\", \"protein\", \"fat\", \"energy\"]\n",
    "df_clean = remove_outliers_iqr(df, cols)\n",
    "print(f\"Original: {df.shape[0]} linhas\")\n",
    "print(f\"Após remoção de outliers: {df_clean.shape[0]} linhas\")"
   ],
   "id": "3d7ff4c1b6b3d232",
   "outputs": [
    {
     "name": "stdout",
     "output_type": "stream",
     "text": [
      "Original: 13187 linhas\n",
      "Após remoção de outliers: 12176 linhas\n"
     ]
    }
   ],
   "execution_count": 11
  },
  {
   "metadata": {
    "ExecuteTime": {
     "end_time": "2025-03-19T23:12:23.635388Z",
     "start_time": "2025-03-19T23:12:23.560499Z"
    }
   },
   "cell_type": "code",
   "source": [
    "# Define the columns to be normalized\n",
    "columns_to_normalize = [\"carb\", \"protein\", \"fat\", \"energy\"]\n",
    "\n",
    "# Initialize the MinMaxScaler\n",
    "scaler = MinMaxScaler()\n",
    "\n",
    "# Normalize the specified columns\n",
    "df_clean[columns_to_normalize] = scaler.fit_transform(df_clean[columns_to_normalize])\n",
    "\n",
    "# Display the first few rows to verify the normalization\n",
    "print(df_clean.head())\n",
    "\n",
    "# Save the normalized datasets to a new CSV file (optional)\n",
    "df_clean.to_csv(\"../data/who_dataset/normalized/normalized_\"+dataset_name, index=False)\n",
    "\n",
    "import joblib\n",
    "\n",
    "joblib.dump(scaler, \"../data/who_dataset/pickle/scaler_merged_dataset.pkl\")"
   ],
   "id": "31150abb50e1607b",
   "outputs": [
    {
     "name": "stdout",
     "output_type": "stream",
     "text": [
      "                                    meal_description      carb   protein  \\\n",
      "0  region usa 84g cooked artichokes boiled sprink...  0.079314  0.061865   \n",
      "1  region usa 45g wheat crackers paired 80g dry m...  0.682111  0.265622   \n",
      "2                region usa 132g chocolate ice cream  0.308580  0.127829   \n",
      "3  region usa 4625g white rice specifically longg...  0.310135  0.088516   \n",
      "4                  region usa 15g mustard nice plate  0.006590  0.016246   \n",
      "\n",
      "        fat    energy  \n",
      "0  0.006865  0.052409  \n",
      "1  0.461226  0.661655  \n",
      "2  0.349038  0.348805  \n",
      "3  0.011451  0.211611  \n",
      "4  0.012187  0.012662  \n"
     ]
    },
    {
     "data": {
      "text/plain": [
       "['../data/who_dataset/pickle/scaler_merged_dataset.pkl']"
      ]
     },
     "execution_count": 12,
     "metadata": {},
     "output_type": "execute_result"
    }
   ],
   "execution_count": 12
  }
 ],
 "metadata": {
  "kernelspec": {
   "display_name": "Python 3",
   "language": "python",
   "name": "python3"
  },
  "language_info": {
   "codemirror_mode": {
    "name": "ipython",
    "version": 2
   },
   "file_extension": ".py",
   "mimetype": "text/x-python",
   "name": "python",
   "nbconvert_exporter": "python",
   "pygments_lexer": "ipython2",
   "version": "2.7.6"
  }
 },
 "nbformat": 4,
 "nbformat_minor": 5
}
